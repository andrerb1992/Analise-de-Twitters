{
 "cells": [
  {
   "cell_type": "code",
   "execution_count": 1,
   "metadata": {},
   "outputs": [],
   "source": [
    "import tweepy as tw\n",
    "import pandas as pd"
   ]
  },
  {
   "cell_type": "code",
   "execution_count": 2,
   "metadata": {},
   "outputs": [],
   "source": [
    "#Código de para acesso ao Twitter \n",
    "bearer_token = 'AAAAAAAAAAAAAAAAAAAAABLGgQEAAAAANGRBRPdKFGIjp0kUTCsSxpKXuDo%3DbRoHHOiIxjSX8toVgzBIe2lWHzqPUummALWYbMFBZKyzdMR96i'\n",
    "consumer_key = 'kTHWSvLnPAZ44M19YaJL93n7g'\n",
    "consumer_secret = '4sGK2GSqpHncSzaSTf4p9KN0uCiZ8Napv0yfaQPkD6S9hsoN9G'\n",
    "access_token = '178435677-t3wPQTniHWCARM3TiKlskjPOspOF4oN3YxLLPBFl'\n",
    "access_token_secret = 'h0duv2PZSoSJYjCK8ve3mQZ3MzRHjCdSLJjcHJW5P4XJK'"
   ]
  },
  {
   "cell_type": "code",
   "execution_count": 3,
   "metadata": {},
   "outputs": [],
   "source": [
    "cliente = tw.Client(bearer_token=bearer_token, consumer_key=consumer_key, consumer_secret=consumer_secret, access_token=access_token, access_token_secret=access_token_secret)"
   ]
  },
  {
   "cell_type": "code",
   "execution_count": 38,
   "metadata": {},
   "outputs": [],
   "source": [
    "# A query é a informação que está buscando na rede\n",
    "resposta = cliente.search_recent_tweets(query='@BancoPan',max_results=100)"
   ]
  },
  {
   "cell_type": "code",
   "execution_count": 39,
   "metadata": {},
   "outputs": [
    {
     "name": "stdout",
     "output_type": "stream",
     "text": [
      "[<Tweet id=1564629725703806980 text='@bancopan Banco pan quero mimo 🥺'>, <Tweet id=1564628688351674374 text='@bancopan Não 😨😱😰'>, <Tweet id=1564627888573501443 text='@bancopan @bancopan porque o aplicativo de vocês nunca funciona? E por que seus lindos atendentes me ligam de 30 em 30 segundos quando o que quero solicitar é bem simples ( funcionaria através de um único email).'>, <Tweet id=1564622799951597587 text='@c_lanzotti @bancopan Eu só quero me desvincular desse banco, só dor de cabeça'>, <Tweet id=1564622585064734726 text='@712YUNG @bancopan acontece o mesmo comigo! vou pagar essa fatura e cancelar a conta. esse pan tá mais pra uma piada. deixa a Jojo saber disso...'>, <Tweet id=1564622521093296132 text='@nandomtts @spbancarios @s @santander_br @Bradesco @itau @bancosafra @BancodoBrasil @bancopan @BancoOriginal @FEBRABAN @Banrisul #PropostaDecenteOuGreve\\n\\n@itau @Bradesco @Santander_br @BancodoBrasil @Caixa @FEBRABAN\\n\\n😡 Fenaban!\\n🤬🤬\\n\\n@spbancarios\\n@ivonesilva\\n@mrosanihashizu1\\n@NeivaMrs\\n@fetecsp\\n@alinemolina1\\n@Contraf_CUT\\n@Juvandia\\n@CUT_Brasil\\n@CUTsaopaulo\\n@lcmarcolino\\n@Afubesp_\\n@camiloafubesp \\n@RitaBerlofa'>, <Tweet id=1564622322962731017 text='@nandomtts @spbancarios @s @santander_br @Bradesco @itau @bancosafra @BancodoBrasil @bancopan @BancoOriginal @FEBRABAN @Banrisul #PropostaDecenteOuGreve\\n\\n@itau @Bradesco @Santander_br @BancodoBrasil @Caixa @FEBRABAN\\n\\n😡 Fenaban!\\n🤬🤬\\n\\n@spbancarios\\n@ivonesilva\\n@mrosanihashizu1\\n@NeivaMrs\\n@fetecsp\\n@alinemolina1\\n@Contraf_CUT\\n@Juvandia\\n@CUT_Brasil\\n@CUTsaopaulo\\n@lcmarcolino\\n@Afubesp_\\n@camiloafubesp \\n@RitaBerlofa'>, <Tweet id=1564621963011792901 text='@bancopan e aí? suporte horrível. vou pagar essa fatura e cancelar a conta com vocês. segunda vez que acontece isso.'>, <Tweet id=1564621327595704326 text='@bancopan Nada feito https://t.co/lRNZHMvVU8'>, <Tweet id=1564619829608431625 text='@bancopan cadê essa disposição toda pra ajudar? o que fazer quando dá esse erro e nem deixa criar uma nova senha?'>, <Tweet id=1564618751135420428 text='@bancopan mas a conta não entra! \"ops, tivemos um problema inesperado, tente novamente\". e com isso esqueci a senha, mas não dá pra resetar (dá o mesmo erro).'>, <Tweet id=1564617008716693518 text='@JorgeWPena @bancopan Veja se não sujaram seu nome, amigo'>, <Tweet id=1564615303899877382 text='Mais uma vez me ligam dizendo ser só @bancopan e que há um empréstimo pra cair na minha conta e que devo ligar para 0800 0002104. Semana passada fiz o tal cancelamento de consignado e descobri que não havia consignando algum no INSS. O banco tens e fazer algo contra'>, <Tweet id=1564612983233421319 text='@bancopan A data está correta. Já reiniciei o celular, desinstalei e instalei de novo o app e o erro continua.'>, <Tweet id=1564607695478456330 text='@bancopan E porque o site de vocês está fora do ar? E pelo telefone a opção 9 não é mais para falar com atendente? Estou preocupado.'>, <Tweet id=1564607492906156037 text='@bancopan @bancopan não consigo acessar o app. Podem me ajudar, por favor?'>, <Tweet id=1564602969131466752 text='Por engano, paguei R$ 140 a mais na fatura do cartão do @bancopan. Passou-se meses e ainda não me devolveram o valor, mesmo depois de entrar em contato. Atendimento muito ruim. Não recomendo a ninguém'>, <Tweet id=1564601352176603137 text='@bancopan @bancopan preciso de suporte, falar com alguém. Isso é possível?'>, <Tweet id=1564601129362759686 text='@bancopan Isso não acontece. Fico esperando e nada!'>, <Tweet id=1564599007753768961 text='@bancopan Como faz para falar com um atendente? Estou horas tentando e nada! Só atendimento eletrônico e não resolve meu problema, difícil vocês,hein!'>, <Tweet id=1564588596392230912 text='Alô @bancopan  o que está acontecendo com seu aplicativo 🤦🏻\\u200d♂️resolve isso aí'>, <Tweet id=1564553613397184512 text='@Ricardo77460721 @bancopan Até eu preocupei agora....eu fiz contrato com o banco PAN'>, <Tweet id=1564553589082710017 text='@CardozoMClaudia Tem um cartão, não vou dizer que é o @bancopan, que liga e manda mensagem avisando que a fatura vai vencer. É o inferno antes, durante e depois da dívida existir!'>, <Tweet id=1564530634600636416 text='RT @bancopan: 😎🌞 Você recebeu um voucher de viagem e pode ir a qualquer lugar do mundo. Para onde iria? 😎🌞'>, <Tweet id=1564530620591706112 text='RT @bancopan: Se sua vida financeira fosse um jogo, em qual fase você estaria? 🤔\\n1. Iniciou a 1ª fase - fez as compras do mês. ✅ \\n2. Enfren…'>, <Tweet id=1564454564170010624 text='Meu limite não tá sendo suficiente é o @bancopan NAO FAZ NADA!!!!'>, <Tweet id=1564436662544998405 text='@DiegoCorrets @bancopan Faça! Sério!'>, <Tweet id=1564436013887488005 text='Desculpa @AlgarTelecom por ter reclamado do seu atendimento há alguns dias.\\nNada supera o péssimo atendimento do @bancopan !!'>, <Tweet id=1564435741664477186 text='@bancopan Isso já estar pago e fica no sistema de vcs como atraso e depois na profayura vem os juros e aí eu tenho que ficar ligando pra vcs com esse atendimento horrível para poder resolver isso. Quando eu falo que esse banco é uma MERDA não é atoa https://t.co/Hba7NJrZvc'>, <Tweet id=1564434505594798081 text='@anaacaeb @bancopan Vou fazer o mesmo.'>, <Tweet id=1564434361998610434 text='@DiegoCorrets @bancopan Ou com o meu limite que foi rebaixado DO NADA. Ainda bem que já me livrei dessa porcaria de banco.'>, <Tweet id=1564431859332816897 text='RT @nandomtts: Não aceitarmos desrespeito contra @s trabalhadorxs. \\n\\n#AgoraÉGreve\\n@santander_br @Bradesco  @itau @bancosafra  @BancodoBrasi…'>, <Tweet id=1564429428112982017 text='@nandomtts @s @santander_br @Bradesco @itau @bancosafra @BancodoBrasil @bancopan @BancoOriginal @FEBRABAN @Banrisul ESTUDAR PARA ESCREVER CORRETAMENTE NÃO QUER. O \"TRABALHADORXS\" É A IGNORÂNCIA EM SUA ESSÊNCIA.\\n#AgoraÉgreve'>, <Tweet id=1564423455554019329 text='@bancopan ACABARAM DE ABRIR UMA CONTA NESSE BANCO SEM TER SIDO EU, E PELO JEITO ACONTECEU COM OUTRAS PESSOAS!!!!'>, <Tweet id=1564413347075956745 text='@bancopan O pagseguro está bloqueando saldo do trabalhador e cancelando as contas, falta de respeito. Arrependida de ter comprasdo essa maldita máquina. 3 meses tentando sacar 1.200 que eles estão segurando e não devolvem.'>, <Tweet id=1564411574001045504 text='@bancopan Kkkk tentei fazer um empréstimo, pq sou beneficiário do bolsa família, cai em site fraudulento, tenho anti vírus no meu celular 📱, e tem outra tenho o app de vcs no meu celular, e através dele fui encaminhado pra um canal através de WhatsApp, deu ruim 👎'>, <Tweet id=1564398620035760128 text='@bancopan Queria Mimi 🥺'>, <Tweet id=1564396110642290688 text='RT @nandomtts: Não aceitarmos desrespeito contra @s trabalhadorxs. \\n\\n#AgoraÉGreve\\n@santander_br @Bradesco  @itau @bancosafra  @BancodoBrasi…'>, <Tweet id=1564395162960265216 text='#queraiva do @bancopan sempre atrasando a vida … agora tô sem #dinheiro pq simplesmente ele não quer abrir e ninguém atende nesse banco https://t.co/5NPUyewQgb'>, <Tweet id=1564393093247520774 text='Elogiei o @bancopan e ele está fazendo uma palhaçada comigo 🤡'>, <Tweet id=1564391541015191553 text='Banco pan lixo! Abaixou minha fatura de 1200 pra 100 tmnc \\n@bancopan falta de noção em cara'>, <Tweet id=1564383815144972289 text='@bancopan Israel\\nsonho com isso'>, <Tweet id=1564381962311188482 text='RT @metatreze: #AgoraÉGreve @itau @santander_br @Bradesco @bancopan @BancoOriginal @Bancointer @BancodoBrasil @BancoOriginal @FEBRABAN http…'>, <Tweet id=1564379556320010241 text='RT @nandomtts: Não aceitarmos desrespeito contra @s trabalhadorxs. \\n\\n#AgoraÉGreve\\n@santander_br @Bradesco  @itau @bancosafra  @BancodoBrasi…'>, <Tweet id=1564378545618620418 text='@bancopan Quero entrar na minha conta, esqueci a senha, eu busco recurso no app é só aparece isso. Resolva. https://t.co/OZSycLec0a'>, <Tweet id=1564377671127240705 text='RT @nandomtts: Não aceitarmos desrespeito contra @s trabalhadorxs. \\n\\n#AgoraÉGreve\\n@santander_br @Bradesco  @itau @bancosafra  @BancodoBrasi…'>, <Tweet id=1564377088399908867 text='RT @nandomtts: Não aceitarmos desrespeito contra @s trabalhadorxs. \\n\\n#AgoraÉGreve\\n@santander_br @Bradesco  @itau @bancosafra  @BancodoBrasi…'>, <Tweet id=1564376759373647873 text='@bancopan Egito, pois meu futuro marido mora lá'>, <Tweet id=1564376177632067590 text='@nandomtts @spbancarios @s @santander_br @Bradesco @itau @bancosafra @BancodoBrasil @bancopan @BancoOriginal @FEBRABAN @Banrisul #grevedosbancarios2022 \\n#propostadecenteougreve #agoraégreve'>, <Tweet id=1564376050905358336 text='@nandomtts @spbancarios @s @santander_br @Bradesco @itau @bancosafra @BancodoBrasil @bancopan @BancoOriginal @FEBRABAN @Banrisul #grevedosbancarios2022 \\n#propostadecenteougreve #agoraégreve'>, <Tweet id=1564373464030625795 text='@nandomtts @s @santander_br @Bradesco @itau @bancosafra @BancodoBrasil @bancopan @BancoOriginal @FEBRABAN @Banrisul #AgoraÉGreve https://t.co/Ad6sKBfn7j'>, <Tweet id=1564372698347851776 text='RT @nandomtts: Não aceitarmos desrespeito contra @s trabalhadorxs. \\n\\n#AgoraÉGreve\\n@santander_br @Bradesco  @itau @bancosafra  @BancodoBrasi…'>, <Tweet id=1564369686158008322 text='@bancopan Dubai 😍'>, <Tweet id=1564368125952491526 text='Liguei 4x na central do @bancopan e a ligação simplesmente cai quando alguém atende 🤡'>, <Tweet id=1564366954152050690 text='@bancopan Suíça'>, <Tweet id=1564360013489078273 text='RT @diogenes_fran: @metatreze @itau @santander_br @Bradesco @bancopan @BancoOriginal @Bancointer @BancodoBrasil @FEBRABAN #AgoraÉGreve!'>, <Tweet id=1564359950138331138 text='RT @metatreze: #AgoraÉGreve @itau @santander_br @Bradesco @bancopan @BancoOriginal @Bancointer @BancodoBrasil @BancoOriginal @FEBRABAN http…'>, <Tweet id=1564358172948811776 text='RT @bancopan: Se sua vida financeira fosse um jogo, em qual fase você estaria? 🤔\\n1. Iniciou a 1ª fase - fez as compras do mês. ✅ \\n2. Enfren…'>, <Tweet id=1564356471722213376 text='RT @nandomtts: Não aceitarmos desrespeito contra @s trabalhadorxs. \\n\\n#AgoraÉGreve\\n@santander_br @Bradesco  @itau @bancosafra  @BancodoBrasi…'>, <Tweet id=1564352960284475405 text='RT @nandomtts: Não aceitarmos desrespeito contra @s trabalhadorxs. \\n\\n#AgoraÉGreve\\n@santander_br @Bradesco  @itau @bancosafra  @BancodoBrasi…'>, <Tweet id=1564352391436173313 text='RT @nandomtts: Não aceitarmos desrespeito contra @s trabalhadorxs. \\n\\n#AgoraÉGreve\\n@santander_br @Bradesco  @itau @bancosafra  @BancodoBrasi…'>, <Tweet id=1564352256606101507 text='RT @nandomtts: Não aceitarmos desrespeito contra @s trabalhadorxs. \\n\\n#AgoraÉGreve\\n@santander_br @Bradesco  @itau @bancosafra  @BancodoBrasi…'>, <Tweet id=1564351601183059968 text='@metatreze @itau @santander_br @Bradesco @bancopan @BancoOriginal @Bancointer @BancodoBrasil @FEBRABAN #AgoraÉGreve!'>, <Tweet id=1564350769075290113 text='RT @bancopan: 😎🌞 Você recebeu um voucher de viagem e pode ir a qualquer lugar do mundo. Para onde iria? 😎🌞'>, <Tweet id=1564349490232016899 text='RT @luzeniltoncreto: @nandomtts @s @santander_br @Bradesco @itau @bancosafra @BancodoBrasil @bancopan @BancoOriginal @FEBRABAN @Banrisul Ba…'>, <Tweet id=1564349396917129216 text='#AgoraÉGreve @itau @santander_br @Bradesco @bancopan @BancoOriginal @Bancointer @BancodoBrasil @BancoOriginal @FEBRABAN https://t.co/2ePggJqGfe'>, <Tweet id=1564349100098785281 text='@bancopan Japão conhecer a ilha de Okinawa'>, <Tweet id=1564348337016430592 text='@SimoneTardim @spbancarios @Bradesco @itau @santander_br @BancodoBrasil @caixaeconomica @bancopan @Citibank @bancosafra Não vamos aceitar. Fenaban apresentou proposta final rebaixada e com perdas, @BancodoBrasil segue querendo diminuir as avaliações da GDP, em 1 semestre ninguém consegue recuperar! #AgoraÉGreve'>, <Tweet id=1564347842881355780 text='@SimoneTardim @spbancarios @Bradesco @itau @caixaeconomica @santander_br @BancodoBrasil @Citi @Citibank @bancosafra @bancopan Não vamos aceitar. Fenaban apresentou proposta final rebaixada e com perdas, @BancodoBrasil segue querendo diminuir as avaliações da GDP, em 1 semestre ninguém consegue recuperar! #AgoraÉGreve'>, <Tweet id=1564347297877606401 text='#AgoraÉGreve \\n@spbancarios \\n@Bradesco \\n@itau \\n@caixaeconomica \\n@santander_br \\n@BancodoBrasil \\n@Citi \\n@Citibank \\n@bancosafra \\n@bancopan https://t.co/vlZMp3Ciai'>, <Tweet id=1564347228050923521 text='RT @nandomtts: Não aceitarmos desrespeito contra @s trabalhadorxs. \\n\\n#AgoraÉGreve\\n@santander_br @Bradesco  @itau @bancosafra  @BancodoBrasi…'>, <Tweet id=1564346927956824071 text='#AgoraÉGreve\\n@spbancarios \\n@Bradesco \\n@itau \\n@santander_br \\n@BancodoBrasil \\n@caixaeconomica \\n@bancopan \\n@Citibank \\n@bancosafra https://t.co/aGoRPS13TP'>, <Tweet id=1564346242653687809 text='@nandomtts @s @santander_br @Bradesco @itau @bancosafra @BancodoBrasil @bancopan @BancoOriginal @FEBRABAN @Banrisul Fenaban apresentou proposta final rebaixada e com perdas, @BancodoBrasil segue querendo diminuir as avaliações da GDP, em 1 semestre ninguém consegue recuperar! #AgoraÉGreve . Não vamos aceitar!'>, <Tweet id=1564345710438408194 text='@nandomtts @s @santander_br @Bradesco @itau @bancosafra @BancodoBrasil @bancopan @BancoOriginal @FEBRABAN @Banrisul Fenaban apresentou proposta final rebaixada e com perdas, @BancodoBrasil segue querendo diminuir as avaliações da GDP, em 1 semestre ninguém consegue recuperar! #AgoraÉGreve . Não vamos aceitar!'>, <Tweet id=1564345531148664836 text='RT @nandomtts: Não aceitarmos desrespeito contra @s trabalhadorxs. \\n\\n#AgoraÉGreve\\n@santander_br @Bradesco  @itau @bancosafra  @BancodoBrasi…'>, <Tweet id=1564344527619497986 text='@nandomtts @s @santander_br @Bradesco @itau @bancosafra @BancodoBrasil @bancopan @BancoOriginal @FEBRABAN @Banrisul Bancos querem greve! Fenaban apresentou proposta final com perdas já recusada pela categoria e agora querem impor mais perdas em 2023. Comando está reunido neste momento para organizar e mobilizar o movimento para a luta. #AgoraÉGreve!'>, <Tweet id=1564344468253327365 text='Não aceitarmos desrespeito contra @s trabalhadorxs. \\n\\n#AgoraÉGreve\\n@santander_br @Bradesco  @itau @bancosafra  @BancodoBrasil  @bancopan @BancoOriginal @FEBRABAN @Banrisul https://t.co/3sBrIP5LRA'>, <Tweet id=1564344328679555074 text='Não aceitarmos desrespeito contra @s trabalhadorxs. \\n\\n#AgoraÉGreve\\n@santander_br @Bradesco  @itau @bancosafra  @BancodoBrasil  @bancopan @BancoOriginal @FEBRABAN @Banrisul https://t.co/sd3PgI66ux'>, <Tweet id=1564344262187274247 text='RT @nandomtts: Não aceitarmos desrespeito contra @s trabalhadorxs. \\n\\n#AgoraÉGreve\\n@santander_br @Bradesco  @itau @bancosafra  @BancodoBrasi…'>, <Tweet id=1564344255975510017 text='Não aceitarmos desrespeito contra @s trabalhadorxs. \\n\\n#AgoraÉGreve\\n@santander_br @Bradesco  @itau @bancosafra  @BancodoBrasil  @bancopan @BancoOriginal @FEBRABAN @Banrisul https://t.co/IqQeeqtIq2'>, <Tweet id=1564343390979907592 text='Não aceitarmos desrespeito contra @s trabalhadorxs. \\n\\n#AgoraÉGreve\\n@santander_br @Bradesco  @itau @bancosafra  @BancodoBrasil  @bancopan @BancoOriginal @FEBRABAN @Banrisul https://t.co/aJtIvYS3n6'>, <Tweet id=1564343052440948737 text='Não aceitarmos desrespeito contra @s trabalhadorxs. \\n\\n#AgoraÉGreve\\n@santander_br @Bradesco  @itau @bancosafra  @BancodoBrasil  @bancopan @BancoOriginal @FEBRABAN @Banrisul https://t.co/4J8T67Sj27'>, <Tweet id=1564342334422192136 text='Não aceitarmos desrespeito contra @s trabalhadorxs. \\n\\n#AgoraÉGreve\\n@santander_br @Bradesco  @itau @bancosafra  @BancodoBrasil  @bancopan @BancoOriginal @FEBRABAN @Banrisul https://t.co/RFvsPlBrk8'>, <Tweet id=1564342250322202628 text='Não aceitarmos desrespeito contra @s trabalhadorxs. \\n\\n#AgoraÉGreve\\n@santander_br @Bradesco  @itau @bancosafra  @BancodoBrasil  @bancopan @BancoOriginal @FEBRABAN @Banrisul https://t.co/EF8VScyaiV'>, <Tweet id=1564337728010993665 text='@bancopan Em vez de fazer jogos, vocês deveriam resolver o meu problema. Com o pagamento da minha fatura do cartão, que não foi registrado.'>, <Tweet id=1564335342559404033 text='@bancopan Nao sei o que DM….\\nO fato é que continuam ligando  no celular!\\nO que preciso fazer para deixar de ser importunado?'>, <Tweet id=1564328726145417216 text='@bancopan GOSTARIA DE SABER COMO VOU PAGAR O BOLETO GERADO PELO SISTEMA!! AI SÓ EM 5 DIAS UTEIS PARA CONSEGUI NOVA IMPRESSÃO!!! ESTÃO DE PARABÉNS ASSIM ESTA FACIL GANHAR COM OS JUROS GERADOS!!\\n#BANCOPANLIXO https://t.co/5ad7nju5jI'>, <Tweet id=1564319867678892032 text='@bancopan vcs só me iludem, passam dias oferecendo empréstimo, dava erro toda vezes que tentava concluir pelo app e agora some a \" oferta \"'>, <Tweet id=1564300105045377026 text='@bancopan Italia'>, <Tweet id=1564298292867092489 text='@bancopan Kakakak eu venderia pra pagar as contas.🤣🤣🤣'>, <Tweet id=1564281494348111873 text='@bancopan Inglaterra.'>, <Tweet id=1564278697091293192 text='A dificuldade pra falar com atendente do @bancopan pra contestar uma compra no cartão é surreal. Não indico a ninguém.'>, <Tweet id=1564269799521353728 text='@bancopan @bancopan roubaram a porra do meu dinheiro!!'>, <Tweet id=1564269491256807427 text='@bancopan decidiram não aceitar a mesma senha que eu usava pra entrar no app dizendo que a senha está errada, sendo que nunca mudei. coloco p mudar a senha e falam q vão mandar codigo no email e estou a 2hrs esperando a porra do codigo\\nsimplesmente me ROUBARAM filhos da puta'>, <Tweet id=1564269241196597249 text='@bancopan eu quero q vcs vão pra casa do caralho\\nabri essa porra dessa conta pq tinham me mandado uma PROPOSTA de cartao de credito, quando abri não tinha porra de crédito nenhum\\nai quando decido usar essa merda e transfiro algum dinheiro, decidem não aceitar mais a senha'>, <Tweet id=1564268466345021442 text='Tô muito puto com o @bancopan'>, <Tweet id=1564263598674907137 text='@bancopan  assim é fácil ganhar juros !!! deixa o sistema fora do ar para ao chamar o chat pagar 3 dias após a data escolhida !!!\\n#bancopanlixo'>, <Tweet id=1564256325802098689 text='Alguém sabe algum contato do @bancopan  que atenda ?\\nFizeram um cartão consignado pra minha tia de 60 anos e tão descontando do benefício dela 🙄'>, <Tweet id=1564253271518224384 text='Há dias eu estou tentando entrar em contato com algum atendente do Banco Pan e simplesmente não consigo. Ai você apela para as redes sociais e eles fazem você engolir uma conversinha de que alguém vai entrar em contato com você, e ninguém nunca entra. Fujam do @bancopan'>, <Tweet id=1564240390009520131 text='Eu com a camisa do @bancopan no busão (que ganhei do @domingao ) o povo perguntando onde ficava a agência \\n\\nQuero meu dinheiro do publi 🗣🗣🗣'>]\n"
     ]
    }
   ],
   "source": [
    "#printa os 100 tweets baseado na query\n",
    "dados = resposta.data\n",
    "print(dados)\n"
   ]
  },
  {
   "cell_type": "code",
   "execution_count": 40,
   "metadata": {},
   "outputs": [
    {
     "name": "stdout",
     "output_type": "stream",
     "text": [
      "@bancopan Banco pan quero mimo 🥺\n",
      "@bancopan Não 😨😱😰\n",
      "@bancopan @bancopan porque o aplicativo de vocês nunca funciona? E por que seus lindos atendentes me ligam de 30 em 30 segundos quando o que quero solicitar é bem simples ( funcionaria através de um único email).\n",
      "@c_lanzotti @bancopan Eu só quero me desvincular desse banco, só dor de cabeça\n",
      "@712YUNG @bancopan acontece o mesmo comigo! vou pagar essa fatura e cancelar a conta. esse pan tá mais pra uma piada. deixa a Jojo saber disso...\n",
      "@nandomtts @spbancarios @s @santander_br @Bradesco @itau @bancosafra @BancodoBrasil @bancopan @BancoOriginal @FEBRABAN @Banrisul #PropostaDecenteOuGreve\n",
      "\n",
      "@itau @Bradesco @Santander_br @BancodoBrasil @Caixa @FEBRABAN\n",
      "\n",
      "😡 Fenaban!\n",
      "🤬🤬\n",
      "\n",
      "@spbancarios\n",
      "@ivonesilva\n",
      "@mrosanihashizu1\n",
      "@NeivaMrs\n",
      "@fetecsp\n",
      "@alinemolina1\n",
      "@Contraf_CUT\n",
      "@Juvandia\n",
      "@CUT_Brasil\n",
      "@CUTsaopaulo\n",
      "@lcmarcolino\n",
      "@Afubesp_\n",
      "@camiloafubesp \n",
      "@RitaBerlofa\n",
      "@nandomtts @spbancarios @s @santander_br @Bradesco @itau @bancosafra @BancodoBrasil @bancopan @BancoOriginal @FEBRABAN @Banrisul #PropostaDecenteOuGreve\n",
      "\n",
      "@itau @Bradesco @Santander_br @BancodoBrasil @Caixa @FEBRABAN\n",
      "\n",
      "😡 Fenaban!\n",
      "🤬🤬\n",
      "\n",
      "@spbancarios\n",
      "@ivonesilva\n",
      "@mrosanihashizu1\n",
      "@NeivaMrs\n",
      "@fetecsp\n",
      "@alinemolina1\n",
      "@Contraf_CUT\n",
      "@Juvandia\n",
      "@CUT_Brasil\n",
      "@CUTsaopaulo\n",
      "@lcmarcolino\n",
      "@Afubesp_\n",
      "@camiloafubesp \n",
      "@RitaBerlofa\n",
      "@bancopan e aí? suporte horrível. vou pagar essa fatura e cancelar a conta com vocês. segunda vez que acontece isso.\n",
      "@bancopan Nada feito https://t.co/lRNZHMvVU8\n",
      "@bancopan cadê essa disposição toda pra ajudar? o que fazer quando dá esse erro e nem deixa criar uma nova senha?\n",
      "@bancopan mas a conta não entra! \"ops, tivemos um problema inesperado, tente novamente\". e com isso esqueci a senha, mas não dá pra resetar (dá o mesmo erro).\n",
      "@JorgeWPena @bancopan Veja se não sujaram seu nome, amigo\n",
      "Mais uma vez me ligam dizendo ser só @bancopan e que há um empréstimo pra cair na minha conta e que devo ligar para 0800 0002104. Semana passada fiz o tal cancelamento de consignado e descobri que não havia consignando algum no INSS. O banco tens e fazer algo contra\n",
      "@bancopan A data está correta. Já reiniciei o celular, desinstalei e instalei de novo o app e o erro continua.\n",
      "@bancopan E porque o site de vocês está fora do ar? E pelo telefone a opção 9 não é mais para falar com atendente? Estou preocupado.\n",
      "@bancopan @bancopan não consigo acessar o app. Podem me ajudar, por favor?\n",
      "Por engano, paguei R$ 140 a mais na fatura do cartão do @bancopan. Passou-se meses e ainda não me devolveram o valor, mesmo depois de entrar em contato. Atendimento muito ruim. Não recomendo a ninguém\n",
      "@bancopan @bancopan preciso de suporte, falar com alguém. Isso é possível?\n",
      "@bancopan Isso não acontece. Fico esperando e nada!\n",
      "@bancopan Como faz para falar com um atendente? Estou horas tentando e nada! Só atendimento eletrônico e não resolve meu problema, difícil vocês,hein!\n",
      "Alô @bancopan  o que está acontecendo com seu aplicativo 🤦🏻‍♂️resolve isso aí\n",
      "@Ricardo77460721 @bancopan Até eu preocupei agora....eu fiz contrato com o banco PAN\n",
      "@CardozoMClaudia Tem um cartão, não vou dizer que é o @bancopan, que liga e manda mensagem avisando que a fatura vai vencer. É o inferno antes, durante e depois da dívida existir!\n",
      "RT @bancopan: 😎🌞 Você recebeu um voucher de viagem e pode ir a qualquer lugar do mundo. Para onde iria? 😎🌞\n",
      "RT @bancopan: Se sua vida financeira fosse um jogo, em qual fase você estaria? 🤔\n",
      "1. Iniciou a 1ª fase - fez as compras do mês. ✅ \n",
      "2. Enfren…\n",
      "Meu limite não tá sendo suficiente é o @bancopan NAO FAZ NADA!!!!\n",
      "@DiegoCorrets @bancopan Faça! Sério!\n",
      "Desculpa @AlgarTelecom por ter reclamado do seu atendimento há alguns dias.\n",
      "Nada supera o péssimo atendimento do @bancopan !!\n",
      "@bancopan Isso já estar pago e fica no sistema de vcs como atraso e depois na profayura vem os juros e aí eu tenho que ficar ligando pra vcs com esse atendimento horrível para poder resolver isso. Quando eu falo que esse banco é uma MERDA não é atoa https://t.co/Hba7NJrZvc\n",
      "@anaacaeb @bancopan Vou fazer o mesmo.\n",
      "@DiegoCorrets @bancopan Ou com o meu limite que foi rebaixado DO NADA. Ainda bem que já me livrei dessa porcaria de banco.\n",
      "RT @nandomtts: Não aceitarmos desrespeito contra @s trabalhadorxs. \n",
      "\n",
      "#AgoraÉGreve\n",
      "@santander_br @Bradesco  @itau @bancosafra  @BancodoBrasi…\n",
      "@nandomtts @s @santander_br @Bradesco @itau @bancosafra @BancodoBrasil @bancopan @BancoOriginal @FEBRABAN @Banrisul ESTUDAR PARA ESCREVER CORRETAMENTE NÃO QUER. O \"TRABALHADORXS\" É A IGNORÂNCIA EM SUA ESSÊNCIA.\n",
      "#AgoraÉgreve\n",
      "@bancopan ACABARAM DE ABRIR UMA CONTA NESSE BANCO SEM TER SIDO EU, E PELO JEITO ACONTECEU COM OUTRAS PESSOAS!!!!\n",
      "@bancopan O pagseguro está bloqueando saldo do trabalhador e cancelando as contas, falta de respeito. Arrependida de ter comprasdo essa maldita máquina. 3 meses tentando sacar 1.200 que eles estão segurando e não devolvem.\n",
      "@bancopan Kkkk tentei fazer um empréstimo, pq sou beneficiário do bolsa família, cai em site fraudulento, tenho anti vírus no meu celular 📱, e tem outra tenho o app de vcs no meu celular, e através dele fui encaminhado pra um canal através de WhatsApp, deu ruim 👎\n",
      "@bancopan Queria Mimi 🥺\n",
      "RT @nandomtts: Não aceitarmos desrespeito contra @s trabalhadorxs. \n",
      "\n",
      "#AgoraÉGreve\n",
      "@santander_br @Bradesco  @itau @bancosafra  @BancodoBrasi…\n",
      "#queraiva do @bancopan sempre atrasando a vida … agora tô sem #dinheiro pq simplesmente ele não quer abrir e ninguém atende nesse banco https://t.co/5NPUyewQgb\n",
      "Elogiei o @bancopan e ele está fazendo uma palhaçada comigo 🤡\n",
      "Banco pan lixo! Abaixou minha fatura de 1200 pra 100 tmnc \n",
      "@bancopan falta de noção em cara\n",
      "@bancopan Israel\n",
      "sonho com isso\n",
      "RT @metatreze: #AgoraÉGreve @itau @santander_br @Bradesco @bancopan @BancoOriginal @Bancointer @BancodoBrasil @BancoOriginal @FEBRABAN http…\n",
      "RT @nandomtts: Não aceitarmos desrespeito contra @s trabalhadorxs. \n",
      "\n",
      "#AgoraÉGreve\n",
      "@santander_br @Bradesco  @itau @bancosafra  @BancodoBrasi…\n",
      "@bancopan Quero entrar na minha conta, esqueci a senha, eu busco recurso no app é só aparece isso. Resolva. https://t.co/OZSycLec0a\n",
      "RT @nandomtts: Não aceitarmos desrespeito contra @s trabalhadorxs. \n",
      "\n",
      "#AgoraÉGreve\n",
      "@santander_br @Bradesco  @itau @bancosafra  @BancodoBrasi…\n",
      "RT @nandomtts: Não aceitarmos desrespeito contra @s trabalhadorxs. \n",
      "\n",
      "#AgoraÉGreve\n",
      "@santander_br @Bradesco  @itau @bancosafra  @BancodoBrasi…\n",
      "@bancopan Egito, pois meu futuro marido mora lá\n",
      "@nandomtts @spbancarios @s @santander_br @Bradesco @itau @bancosafra @BancodoBrasil @bancopan @BancoOriginal @FEBRABAN @Banrisul #grevedosbancarios2022 \n",
      "#propostadecenteougreve #agoraégreve\n",
      "@nandomtts @spbancarios @s @santander_br @Bradesco @itau @bancosafra @BancodoBrasil @bancopan @BancoOriginal @FEBRABAN @Banrisul #grevedosbancarios2022 \n",
      "#propostadecenteougreve #agoraégreve\n",
      "@nandomtts @s @santander_br @Bradesco @itau @bancosafra @BancodoBrasil @bancopan @BancoOriginal @FEBRABAN @Banrisul #AgoraÉGreve https://t.co/Ad6sKBfn7j\n",
      "RT @nandomtts: Não aceitarmos desrespeito contra @s trabalhadorxs. \n",
      "\n",
      "#AgoraÉGreve\n",
      "@santander_br @Bradesco  @itau @bancosafra  @BancodoBrasi…\n",
      "@bancopan Dubai 😍\n",
      "Liguei 4x na central do @bancopan e a ligação simplesmente cai quando alguém atende 🤡\n",
      "@bancopan Suíça\n",
      "RT @diogenes_fran: @metatreze @itau @santander_br @Bradesco @bancopan @BancoOriginal @Bancointer @BancodoBrasil @FEBRABAN #AgoraÉGreve!\n",
      "RT @metatreze: #AgoraÉGreve @itau @santander_br @Bradesco @bancopan @BancoOriginal @Bancointer @BancodoBrasil @BancoOriginal @FEBRABAN http…\n",
      "RT @bancopan: Se sua vida financeira fosse um jogo, em qual fase você estaria? 🤔\n",
      "1. Iniciou a 1ª fase - fez as compras do mês. ✅ \n",
      "2. Enfren…\n",
      "RT @nandomtts: Não aceitarmos desrespeito contra @s trabalhadorxs. \n",
      "\n",
      "#AgoraÉGreve\n",
      "@santander_br @Bradesco  @itau @bancosafra  @BancodoBrasi…\n",
      "RT @nandomtts: Não aceitarmos desrespeito contra @s trabalhadorxs. \n",
      "\n",
      "#AgoraÉGreve\n",
      "@santander_br @Bradesco  @itau @bancosafra  @BancodoBrasi…\n",
      "RT @nandomtts: Não aceitarmos desrespeito contra @s trabalhadorxs. \n",
      "\n",
      "#AgoraÉGreve\n",
      "@santander_br @Bradesco  @itau @bancosafra  @BancodoBrasi…\n",
      "RT @nandomtts: Não aceitarmos desrespeito contra @s trabalhadorxs. \n",
      "\n",
      "#AgoraÉGreve\n",
      "@santander_br @Bradesco  @itau @bancosafra  @BancodoBrasi…\n",
      "@metatreze @itau @santander_br @Bradesco @bancopan @BancoOriginal @Bancointer @BancodoBrasil @FEBRABAN #AgoraÉGreve!\n",
      "RT @bancopan: 😎🌞 Você recebeu um voucher de viagem e pode ir a qualquer lugar do mundo. Para onde iria? 😎🌞\n",
      "RT @luzeniltoncreto: @nandomtts @s @santander_br @Bradesco @itau @bancosafra @BancodoBrasil @bancopan @BancoOriginal @FEBRABAN @Banrisul Ba…\n",
      "#AgoraÉGreve @itau @santander_br @Bradesco @bancopan @BancoOriginal @Bancointer @BancodoBrasil @BancoOriginal @FEBRABAN https://t.co/2ePggJqGfe\n",
      "@bancopan Japão conhecer a ilha de Okinawa\n",
      "@SimoneTardim @spbancarios @Bradesco @itau @santander_br @BancodoBrasil @caixaeconomica @bancopan @Citibank @bancosafra Não vamos aceitar. Fenaban apresentou proposta final rebaixada e com perdas, @BancodoBrasil segue querendo diminuir as avaliações da GDP, em 1 semestre ninguém consegue recuperar! #AgoraÉGreve\n",
      "@SimoneTardim @spbancarios @Bradesco @itau @caixaeconomica @santander_br @BancodoBrasil @Citi @Citibank @bancosafra @bancopan Não vamos aceitar. Fenaban apresentou proposta final rebaixada e com perdas, @BancodoBrasil segue querendo diminuir as avaliações da GDP, em 1 semestre ninguém consegue recuperar! #AgoraÉGreve\n",
      "#AgoraÉGreve \n",
      "@spbancarios \n",
      "@Bradesco \n",
      "@itau \n",
      "@caixaeconomica \n",
      "@santander_br \n",
      "@BancodoBrasil \n",
      "@Citi \n",
      "@Citibank \n",
      "@bancosafra \n",
      "@bancopan https://t.co/vlZMp3Ciai\n",
      "RT @nandomtts: Não aceitarmos desrespeito contra @s trabalhadorxs. \n",
      "\n",
      "#AgoraÉGreve\n",
      "@santander_br @Bradesco  @itau @bancosafra  @BancodoBrasi…\n",
      "#AgoraÉGreve\n",
      "@spbancarios \n",
      "@Bradesco \n",
      "@itau \n",
      "@santander_br \n",
      "@BancodoBrasil \n",
      "@caixaeconomica \n",
      "@bancopan \n",
      "@Citibank \n",
      "@bancosafra https://t.co/aGoRPS13TP\n",
      "@nandomtts @s @santander_br @Bradesco @itau @bancosafra @BancodoBrasil @bancopan @BancoOriginal @FEBRABAN @Banrisul Fenaban apresentou proposta final rebaixada e com perdas, @BancodoBrasil segue querendo diminuir as avaliações da GDP, em 1 semestre ninguém consegue recuperar! #AgoraÉGreve . Não vamos aceitar!\n",
      "@nandomtts @s @santander_br @Bradesco @itau @bancosafra @BancodoBrasil @bancopan @BancoOriginal @FEBRABAN @Banrisul Fenaban apresentou proposta final rebaixada e com perdas, @BancodoBrasil segue querendo diminuir as avaliações da GDP, em 1 semestre ninguém consegue recuperar! #AgoraÉGreve . Não vamos aceitar!\n",
      "RT @nandomtts: Não aceitarmos desrespeito contra @s trabalhadorxs. \n",
      "\n",
      "#AgoraÉGreve\n",
      "@santander_br @Bradesco  @itau @bancosafra  @BancodoBrasi…\n",
      "@nandomtts @s @santander_br @Bradesco @itau @bancosafra @BancodoBrasil @bancopan @BancoOriginal @FEBRABAN @Banrisul Bancos querem greve! Fenaban apresentou proposta final com perdas já recusada pela categoria e agora querem impor mais perdas em 2023. Comando está reunido neste momento para organizar e mobilizar o movimento para a luta. #AgoraÉGreve!\n",
      "Não aceitarmos desrespeito contra @s trabalhadorxs. \n",
      "\n",
      "#AgoraÉGreve\n",
      "@santander_br @Bradesco  @itau @bancosafra  @BancodoBrasil  @bancopan @BancoOriginal @FEBRABAN @Banrisul https://t.co/3sBrIP5LRA\n",
      "Não aceitarmos desrespeito contra @s trabalhadorxs. \n",
      "\n",
      "#AgoraÉGreve\n",
      "@santander_br @Bradesco  @itau @bancosafra  @BancodoBrasil  @bancopan @BancoOriginal @FEBRABAN @Banrisul https://t.co/sd3PgI66ux\n",
      "RT @nandomtts: Não aceitarmos desrespeito contra @s trabalhadorxs. \n",
      "\n",
      "#AgoraÉGreve\n",
      "@santander_br @Bradesco  @itau @bancosafra  @BancodoBrasi…\n",
      "Não aceitarmos desrespeito contra @s trabalhadorxs. \n",
      "\n",
      "#AgoraÉGreve\n",
      "@santander_br @Bradesco  @itau @bancosafra  @BancodoBrasil  @bancopan @BancoOriginal @FEBRABAN @Banrisul https://t.co/IqQeeqtIq2\n",
      "Não aceitarmos desrespeito contra @s trabalhadorxs. \n",
      "\n",
      "#AgoraÉGreve\n",
      "@santander_br @Bradesco  @itau @bancosafra  @BancodoBrasil  @bancopan @BancoOriginal @FEBRABAN @Banrisul https://t.co/aJtIvYS3n6\n",
      "Não aceitarmos desrespeito contra @s trabalhadorxs. \n",
      "\n",
      "#AgoraÉGreve\n",
      "@santander_br @Bradesco  @itau @bancosafra  @BancodoBrasil  @bancopan @BancoOriginal @FEBRABAN @Banrisul https://t.co/4J8T67Sj27\n",
      "Não aceitarmos desrespeito contra @s trabalhadorxs. \n",
      "\n",
      "#AgoraÉGreve\n",
      "@santander_br @Bradesco  @itau @bancosafra  @BancodoBrasil  @bancopan @BancoOriginal @FEBRABAN @Banrisul https://t.co/RFvsPlBrk8\n",
      "Não aceitarmos desrespeito contra @s trabalhadorxs. \n",
      "\n",
      "#AgoraÉGreve\n",
      "@santander_br @Bradesco  @itau @bancosafra  @BancodoBrasil  @bancopan @BancoOriginal @FEBRABAN @Banrisul https://t.co/EF8VScyaiV\n",
      "@bancopan Em vez de fazer jogos, vocês deveriam resolver o meu problema. Com o pagamento da minha fatura do cartão, que não foi registrado.\n",
      "@bancopan Nao sei o que DM….\n",
      "O fato é que continuam ligando  no celular!\n",
      "O que preciso fazer para deixar de ser importunado?\n",
      "@bancopan GOSTARIA DE SABER COMO VOU PAGAR O BOLETO GERADO PELO SISTEMA!! AI SÓ EM 5 DIAS UTEIS PARA CONSEGUI NOVA IMPRESSÃO!!! ESTÃO DE PARABÉNS ASSIM ESTA FACIL GANHAR COM OS JUROS GERADOS!!\n",
      "#BANCOPANLIXO https://t.co/5ad7nju5jI\n",
      "@bancopan vcs só me iludem, passam dias oferecendo empréstimo, dava erro toda vezes que tentava concluir pelo app e agora some a \" oferta \"\n",
      "@bancopan Italia\n",
      "@bancopan Kakakak eu venderia pra pagar as contas.🤣🤣🤣\n",
      "@bancopan Inglaterra.\n",
      "A dificuldade pra falar com atendente do @bancopan pra contestar uma compra no cartão é surreal. Não indico a ninguém.\n",
      "@bancopan @bancopan roubaram a porra do meu dinheiro!!\n",
      "@bancopan decidiram não aceitar a mesma senha que eu usava pra entrar no app dizendo que a senha está errada, sendo que nunca mudei. coloco p mudar a senha e falam q vão mandar codigo no email e estou a 2hrs esperando a porra do codigo\n",
      "simplesmente me ROUBARAM filhos da puta\n",
      "@bancopan eu quero q vcs vão pra casa do caralho\n",
      "abri essa porra dessa conta pq tinham me mandado uma PROPOSTA de cartao de credito, quando abri não tinha porra de crédito nenhum\n",
      "ai quando decido usar essa merda e transfiro algum dinheiro, decidem não aceitar mais a senha\n",
      "Tô muito puto com o @bancopan\n",
      "@bancopan  assim é fácil ganhar juros !!! deixa o sistema fora do ar para ao chamar o chat pagar 3 dias após a data escolhida !!!\n",
      "#bancopanlixo\n",
      "Alguém sabe algum contato do @bancopan  que atenda ?\n",
      "Fizeram um cartão consignado pra minha tia de 60 anos e tão descontando do benefício dela 🙄\n",
      "Há dias eu estou tentando entrar em contato com algum atendente do Banco Pan e simplesmente não consigo. Ai você apela para as redes sociais e eles fazem você engolir uma conversinha de que alguém vai entrar em contato com você, e ninguém nunca entra. Fujam do @bancopan\n",
      "Eu com a camisa do @bancopan no busão (que ganhei do @domingao ) o povo perguntando onde ficava a agência \n",
      "\n",
      "Quero meu dinheiro do publi 🗣🗣🗣\n"
     ]
    }
   ],
   "source": [
    "# 1º análise: procura entre os tweets se há alguma ocorrência dessas 14 palavras \n",
    "base = []\n",
    "for i in dados:\n",
    "    print(i)\n",
    "    \n",
    "    linha = [0 for j in range(16)]\n",
    "    \n",
    "    linha[0] = i.text\n",
    "    \n",
    "    texto = i.text\n",
    "    \n",
    "    if('RT' in texto):\n",
    "        posicao = texto.find(':')\n",
    "        texto = texto[posicao+2:]\n",
    "        linha[15] = 1\n",
    "        \n",
    "    linha[1] = 1 if ('reclamado' in texto.lower() or 'reclamando' in texto.lower()) else 0\n",
    "    linha[2] = 1 if ('problema' in texto.lower() or 'problemas' in texto.lower()) else 0\n",
    "    linha[3] = 1 if ('faliu' in texto.lower() or 'faliu' in texto.lower()) else 0\n",
    "    linha[4] = 1 if ('aumentando' in texto.lower() or 'aumento' in texto.lower()) else 0\n",
    "    linha[5] = 1 if ('desativaram ' in texto.lower() or 'desativou' in texto.lower()) else 0\n",
    "    linha[6] = 1 if ('pior cartao' in texto.lower() or 'pior' in texto.lower()) else 0\n",
    "    linha[7] = 1 if ('desisti' in texto.lower() or 'desistir' in texto.lower()) else 0\n",
    "    linha[8] = 1 if ('Roubaram' in texto.lower() or 'Roubaram' in texto.lower()) else 0  \n",
    "    linha[9] = 1 if (' nao atende' in texto.lower() or 'atendente' in texto.lower()) else 0 \n",
    "    linha[10] = 1 if ('Não consigo' in texto.lower() or 'Nao consigo' in texto.lower() or 'Nao' in texto.lower() ) else 0  \n",
    "    linha[11] = 1 if ('Não atende' in texto.lower() or 'Nao atende' in texto.lower() ) else 0  \n",
    "    linha[12] = 1 if ('desrespeito' in texto.lower() ) else 0  \n",
    "    linha[13] = 1 if ('reembolso' in texto.lower() ) else 0  \n",
    "    linha[14] = 1 if ('medíocre' in texto.lower() or 'mediocre' in texto.lower()) else 0  \n",
    "    \n",
    "    base.append(linha)"
   ]
  },
  {
   "cell_type": "code",
   "execution_count": 41,
   "metadata": {},
   "outputs": [
    {
     "name": "stdout",
     "output_type": "stream",
     "text": [
      "                                                   0   1   2   3   4   5   6   \\\n",
      "0                    @bancopan Banco pan quero mimo 🥺   0   0   0   0   0   0   \n",
      "1                                   @bancopan Não 😨😱😰   0   0   0   0   0   0   \n",
      "2   @bancopan @bancopan porque o aplicativo de voc...   0   0   0   0   0   0   \n",
      "3   @c_lanzotti @bancopan Eu só quero me desvincul...   0   0   0   0   0   0   \n",
      "4   @712YUNG @bancopan acontece o mesmo comigo! vo...   0   0   0   0   0   0   \n",
      "..                                                ...  ..  ..  ..  ..  ..  ..   \n",
      "95                      Tô muito puto com o @bancopan   0   0   0   0   0   0   \n",
      "96  @bancopan  assim é fácil ganhar juros !!! deix...   0   0   0   0   0   0   \n",
      "97  Alguém sabe algum contato do @bancopan  que at...   0   0   0   0   0   0   \n",
      "98  Há dias eu estou tentando entrar em contato co...   0   0   0   0   0   0   \n",
      "99  Eu com a camisa do @bancopan no busão (que gan...   0   0   0   0   0   0   \n",
      "\n",
      "    7   8   9   10  11  12  13  14  15  \n",
      "0    0   0   0   0   0   0   0   0   0  \n",
      "1    0   0   0   0   0   0   0   0   0  \n",
      "2    0   0   1   0   0   0   0   0   0  \n",
      "3    0   0   0   0   0   0   0   0   0  \n",
      "4    0   0   0   0   0   0   0   0   0  \n",
      "..  ..  ..  ..  ..  ..  ..  ..  ..  ..  \n",
      "95   0   0   0   0   0   0   0   0   0  \n",
      "96   0   0   0   0   0   0   0   0   0  \n",
      "97   0   0   0   0   0   0   0   0   0  \n",
      "98   0   0   1   0   0   0   0   0   0  \n",
      "99   0   0   0   0   0   0   0   0   0  \n",
      "\n",
      "[100 rows x 16 columns]\n"
     ]
    },
    {
     "data": {
      "text/html": [
       "<div>\n",
       "<style scoped>\n",
       "    .dataframe tbody tr th:only-of-type {\n",
       "        vertical-align: middle;\n",
       "    }\n",
       "\n",
       "    .dataframe tbody tr th {\n",
       "        vertical-align: top;\n",
       "    }\n",
       "\n",
       "    .dataframe thead th {\n",
       "        text-align: right;\n",
       "    }\n",
       "</style>\n",
       "<table border=\"1\" class=\"dataframe\">\n",
       "  <thead>\n",
       "    <tr style=\"text-align: right;\">\n",
       "      <th></th>\n",
       "      <th>texto</th>\n",
       "      <th>reclamando</th>\n",
       "      <th>problema</th>\n",
       "      <th>faliu</th>\n",
       "      <th>aumentando</th>\n",
       "      <th>desativaram</th>\n",
       "      <th>roubo</th>\n",
       "      <th>pior cartao</th>\n",
       "      <th>desisti</th>\n",
       "      <th>Roubaram</th>\n",
       "      <th>Nao consigo</th>\n",
       "      <th>Nao atende</th>\n",
       "      <th>desrespeito</th>\n",
       "      <th>reembolso</th>\n",
       "      <th>medíocre</th>\n",
       "      <th>RT</th>\n",
       "    </tr>\n",
       "  </thead>\n",
       "  <tbody>\n",
       "    <tr>\n",
       "      <th>0</th>\n",
       "      <td>@bancopan Banco pan quero mimo 🥺</td>\n",
       "      <td>0</td>\n",
       "      <td>0</td>\n",
       "      <td>0</td>\n",
       "      <td>0</td>\n",
       "      <td>0</td>\n",
       "      <td>0</td>\n",
       "      <td>0</td>\n",
       "      <td>0</td>\n",
       "      <td>0</td>\n",
       "      <td>0</td>\n",
       "      <td>0</td>\n",
       "      <td>0</td>\n",
       "      <td>0</td>\n",
       "      <td>0</td>\n",
       "      <td>0</td>\n",
       "    </tr>\n",
       "    <tr>\n",
       "      <th>1</th>\n",
       "      <td>@bancopan Não 😨😱😰</td>\n",
       "      <td>0</td>\n",
       "      <td>0</td>\n",
       "      <td>0</td>\n",
       "      <td>0</td>\n",
       "      <td>0</td>\n",
       "      <td>0</td>\n",
       "      <td>0</td>\n",
       "      <td>0</td>\n",
       "      <td>0</td>\n",
       "      <td>0</td>\n",
       "      <td>0</td>\n",
       "      <td>0</td>\n",
       "      <td>0</td>\n",
       "      <td>0</td>\n",
       "      <td>0</td>\n",
       "    </tr>\n",
       "    <tr>\n",
       "      <th>2</th>\n",
       "      <td>@bancopan @bancopan porque o aplicativo de voc...</td>\n",
       "      <td>0</td>\n",
       "      <td>0</td>\n",
       "      <td>0</td>\n",
       "      <td>0</td>\n",
       "      <td>0</td>\n",
       "      <td>0</td>\n",
       "      <td>0</td>\n",
       "      <td>0</td>\n",
       "      <td>1</td>\n",
       "      <td>0</td>\n",
       "      <td>0</td>\n",
       "      <td>0</td>\n",
       "      <td>0</td>\n",
       "      <td>0</td>\n",
       "      <td>0</td>\n",
       "    </tr>\n",
       "    <tr>\n",
       "      <th>3</th>\n",
       "      <td>@c_lanzotti @bancopan Eu só quero me desvincul...</td>\n",
       "      <td>0</td>\n",
       "      <td>0</td>\n",
       "      <td>0</td>\n",
       "      <td>0</td>\n",
       "      <td>0</td>\n",
       "      <td>0</td>\n",
       "      <td>0</td>\n",
       "      <td>0</td>\n",
       "      <td>0</td>\n",
       "      <td>0</td>\n",
       "      <td>0</td>\n",
       "      <td>0</td>\n",
       "      <td>0</td>\n",
       "      <td>0</td>\n",
       "      <td>0</td>\n",
       "    </tr>\n",
       "    <tr>\n",
       "      <th>4</th>\n",
       "      <td>@712YUNG @bancopan acontece o mesmo comigo! vo...</td>\n",
       "      <td>0</td>\n",
       "      <td>0</td>\n",
       "      <td>0</td>\n",
       "      <td>0</td>\n",
       "      <td>0</td>\n",
       "      <td>0</td>\n",
       "      <td>0</td>\n",
       "      <td>0</td>\n",
       "      <td>0</td>\n",
       "      <td>0</td>\n",
       "      <td>0</td>\n",
       "      <td>0</td>\n",
       "      <td>0</td>\n",
       "      <td>0</td>\n",
       "      <td>0</td>\n",
       "    </tr>\n",
       "    <tr>\n",
       "      <th>...</th>\n",
       "      <td>...</td>\n",
       "      <td>...</td>\n",
       "      <td>...</td>\n",
       "      <td>...</td>\n",
       "      <td>...</td>\n",
       "      <td>...</td>\n",
       "      <td>...</td>\n",
       "      <td>...</td>\n",
       "      <td>...</td>\n",
       "      <td>...</td>\n",
       "      <td>...</td>\n",
       "      <td>...</td>\n",
       "      <td>...</td>\n",
       "      <td>...</td>\n",
       "      <td>...</td>\n",
       "      <td>...</td>\n",
       "    </tr>\n",
       "    <tr>\n",
       "      <th>95</th>\n",
       "      <td>Tô muito puto com o @bancopan</td>\n",
       "      <td>0</td>\n",
       "      <td>0</td>\n",
       "      <td>0</td>\n",
       "      <td>0</td>\n",
       "      <td>0</td>\n",
       "      <td>0</td>\n",
       "      <td>0</td>\n",
       "      <td>0</td>\n",
       "      <td>0</td>\n",
       "      <td>0</td>\n",
       "      <td>0</td>\n",
       "      <td>0</td>\n",
       "      <td>0</td>\n",
       "      <td>0</td>\n",
       "      <td>0</td>\n",
       "    </tr>\n",
       "    <tr>\n",
       "      <th>96</th>\n",
       "      <td>@bancopan  assim é fácil ganhar juros !!! deix...</td>\n",
       "      <td>0</td>\n",
       "      <td>0</td>\n",
       "      <td>0</td>\n",
       "      <td>0</td>\n",
       "      <td>0</td>\n",
       "      <td>0</td>\n",
       "      <td>0</td>\n",
       "      <td>0</td>\n",
       "      <td>0</td>\n",
       "      <td>0</td>\n",
       "      <td>0</td>\n",
       "      <td>0</td>\n",
       "      <td>0</td>\n",
       "      <td>0</td>\n",
       "      <td>0</td>\n",
       "    </tr>\n",
       "    <tr>\n",
       "      <th>97</th>\n",
       "      <td>Alguém sabe algum contato do @bancopan  que at...</td>\n",
       "      <td>0</td>\n",
       "      <td>0</td>\n",
       "      <td>0</td>\n",
       "      <td>0</td>\n",
       "      <td>0</td>\n",
       "      <td>0</td>\n",
       "      <td>0</td>\n",
       "      <td>0</td>\n",
       "      <td>0</td>\n",
       "      <td>0</td>\n",
       "      <td>0</td>\n",
       "      <td>0</td>\n",
       "      <td>0</td>\n",
       "      <td>0</td>\n",
       "      <td>0</td>\n",
       "    </tr>\n",
       "    <tr>\n",
       "      <th>98</th>\n",
       "      <td>Há dias eu estou tentando entrar em contato co...</td>\n",
       "      <td>0</td>\n",
       "      <td>0</td>\n",
       "      <td>0</td>\n",
       "      <td>0</td>\n",
       "      <td>0</td>\n",
       "      <td>0</td>\n",
       "      <td>0</td>\n",
       "      <td>0</td>\n",
       "      <td>1</td>\n",
       "      <td>0</td>\n",
       "      <td>0</td>\n",
       "      <td>0</td>\n",
       "      <td>0</td>\n",
       "      <td>0</td>\n",
       "      <td>0</td>\n",
       "    </tr>\n",
       "    <tr>\n",
       "      <th>99</th>\n",
       "      <td>Eu com a camisa do @bancopan no busão (que gan...</td>\n",
       "      <td>0</td>\n",
       "      <td>0</td>\n",
       "      <td>0</td>\n",
       "      <td>0</td>\n",
       "      <td>0</td>\n",
       "      <td>0</td>\n",
       "      <td>0</td>\n",
       "      <td>0</td>\n",
       "      <td>0</td>\n",
       "      <td>0</td>\n",
       "      <td>0</td>\n",
       "      <td>0</td>\n",
       "      <td>0</td>\n",
       "      <td>0</td>\n",
       "      <td>0</td>\n",
       "    </tr>\n",
       "  </tbody>\n",
       "</table>\n",
       "<p>100 rows × 16 columns</p>\n",
       "</div>"
      ],
      "text/plain": [
       "                                                texto  reclamando  problema  \\\n",
       "0                    @bancopan Banco pan quero mimo 🥺           0         0   \n",
       "1                                   @bancopan Não 😨😱😰           0         0   \n",
       "2   @bancopan @bancopan porque o aplicativo de voc...           0         0   \n",
       "3   @c_lanzotti @bancopan Eu só quero me desvincul...           0         0   \n",
       "4   @712YUNG @bancopan acontece o mesmo comigo! vo...           0         0   \n",
       "..                                                ...         ...       ...   \n",
       "95                      Tô muito puto com o @bancopan           0         0   \n",
       "96  @bancopan  assim é fácil ganhar juros !!! deix...           0         0   \n",
       "97  Alguém sabe algum contato do @bancopan  que at...           0         0   \n",
       "98  Há dias eu estou tentando entrar em contato co...           0         0   \n",
       "99  Eu com a camisa do @bancopan no busão (que gan...           0         0   \n",
       "\n",
       "    faliu  aumentando  desativaram  roubo  pior cartao  desisti  Roubaram  \\\n",
       "0       0           0            0      0            0        0         0   \n",
       "1       0           0            0      0            0        0         0   \n",
       "2       0           0            0      0            0        0         1   \n",
       "3       0           0            0      0            0        0         0   \n",
       "4       0           0            0      0            0        0         0   \n",
       "..    ...         ...          ...    ...          ...      ...       ...   \n",
       "95      0           0            0      0            0        0         0   \n",
       "96      0           0            0      0            0        0         0   \n",
       "97      0           0            0      0            0        0         0   \n",
       "98      0           0            0      0            0        0         1   \n",
       "99      0           0            0      0            0        0         0   \n",
       "\n",
       "    Nao consigo  Nao atende  desrespeito  reembolso  medíocre  RT  \n",
       "0             0           0            0          0         0   0  \n",
       "1             0           0            0          0         0   0  \n",
       "2             0           0            0          0         0   0  \n",
       "3             0           0            0          0         0   0  \n",
       "4             0           0            0          0         0   0  \n",
       "..          ...         ...          ...        ...       ...  ..  \n",
       "95            0           0            0          0         0   0  \n",
       "96            0           0            0          0         0   0  \n",
       "97            0           0            0          0         0   0  \n",
       "98            0           0            0          0         0   0  \n",
       "99            0           0            0          0         0   0  \n",
       "\n",
       "[100 rows x 16 columns]"
      ]
     },
     "metadata": {},
     "output_type": "display_data"
    }
   ],
   "source": [
    "#salva os dados em um data frame\n",
    "basedf = pd.DataFrame(base)\n",
    "print(basedf)\n",
    "basedf.columns = ['texto','reclamando','problema','faliu','aumentando','desativaram','roubo','pior cartao','desisti','Roubaram','Nao consigo','Nao atende','desrespeito','reembolso','medíocre','RT']\n",
    "display(basedf)"
   ]
  },
  {
   "cell_type": "code",
   "execution_count": 42,
   "metadata": {},
   "outputs": [
    {
     "name": "stdout",
     "output_type": "stream",
     "text": [
      "    reclamando  problema  faliu  aumentando  desativaram  roubo  pior cartao  \\\n",
      "0            0         0      0           0            0      0            0   \n",
      "1            0         0      0           0            0      0            0   \n",
      "2            0         0      0           0            0      0            0   \n",
      "3            0         0      0           0            0      0            0   \n",
      "4            0         0      0           0            0      0            0   \n",
      "..         ...       ...    ...         ...          ...    ...          ...   \n",
      "95           0         0      0           0            0      0            0   \n",
      "96           0         0      0           0            0      0            0   \n",
      "97           0         0      0           0            0      0            0   \n",
      "98           0         0      0           0            0      0            0   \n",
      "99           0         0      0           0            0      0            0   \n",
      "\n",
      "    desisti  Roubaram  Nao consigo  Nao atende  desrespeito  reembolso  \\\n",
      "0         0         0            0           0            0          0   \n",
      "1         0         0            0           0            0          0   \n",
      "2         0         1            0           0            0          0   \n",
      "3         0         0            0           0            0          0   \n",
      "4         0         0            0           0            0          0   \n",
      "..      ...       ...          ...         ...          ...        ...   \n",
      "95        0         0            0           0            0          0   \n",
      "96        0         0            0           0            0          0   \n",
      "97        0         0            0           0            0          0   \n",
      "98        0         1            0           0            0          0   \n",
      "99        0         0            0           0            0          0   \n",
      "\n",
      "    medíocre  \n",
      "0          0  \n",
      "1          0  \n",
      "2          0  \n",
      "3          0  \n",
      "4          0  \n",
      "..       ...  \n",
      "95         0  \n",
      "96         0  \n",
      "97         0  \n",
      "98         0  \n",
      "99         0  \n",
      "\n",
      "[100 rows x 14 columns]\n"
     ]
    }
   ],
   "source": [
    "#salva os dados em um arquivo cvs\n",
    "baseView = basedf.drop(['texto','RT'],axis=1)\n",
    "print(baseView)\n",
    "baseView.to_csv('bancopanRT.csv')"
   ]
  },
  {
   "cell_type": "code",
   "execution_count": 43,
   "metadata": {},
   "outputs": [
    {
     "data": {
      "text/html": [
       "<div>\n",
       "<style scoped>\n",
       "    .dataframe tbody tr th:only-of-type {\n",
       "        vertical-align: middle;\n",
       "    }\n",
       "\n",
       "    .dataframe tbody tr th {\n",
       "        vertical-align: top;\n",
       "    }\n",
       "\n",
       "    .dataframe thead th {\n",
       "        text-align: right;\n",
       "    }\n",
       "</style>\n",
       "<table border=\"1\" class=\"dataframe\">\n",
       "  <thead>\n",
       "    <tr style=\"text-align: right;\">\n",
       "      <th></th>\n",
       "      <th>Palavra</th>\n",
       "      <th>Quantidade de Palavra</th>\n",
       "    </tr>\n",
       "  </thead>\n",
       "  <tbody>\n",
       "    <tr>\n",
       "      <th>0</th>\n",
       "      <td>desrespeito</td>\n",
       "      <td>20</td>\n",
       "    </tr>\n",
       "    <tr>\n",
       "      <th>1</th>\n",
       "      <td>Roubaram</td>\n",
       "      <td>5</td>\n",
       "    </tr>\n",
       "    <tr>\n",
       "      <th>2</th>\n",
       "      <td>problema</td>\n",
       "      <td>3</td>\n",
       "    </tr>\n",
       "    <tr>\n",
       "      <th>3</th>\n",
       "      <td>reclamando</td>\n",
       "      <td>1</td>\n",
       "    </tr>\n",
       "    <tr>\n",
       "      <th>4</th>\n",
       "      <td>medíocre</td>\n",
       "      <td>0</td>\n",
       "    </tr>\n",
       "    <tr>\n",
       "      <th>5</th>\n",
       "      <td>reembolso</td>\n",
       "      <td>0</td>\n",
       "    </tr>\n",
       "    <tr>\n",
       "      <th>6</th>\n",
       "      <td>Nao atende</td>\n",
       "      <td>0</td>\n",
       "    </tr>\n",
       "    <tr>\n",
       "      <th>7</th>\n",
       "      <td>Nao consigo</td>\n",
       "      <td>0</td>\n",
       "    </tr>\n",
       "    <tr>\n",
       "      <th>8</th>\n",
       "      <td>desisti</td>\n",
       "      <td>0</td>\n",
       "    </tr>\n",
       "    <tr>\n",
       "      <th>9</th>\n",
       "      <td>pior cartao</td>\n",
       "      <td>0</td>\n",
       "    </tr>\n",
       "    <tr>\n",
       "      <th>10</th>\n",
       "      <td>roubo</td>\n",
       "      <td>0</td>\n",
       "    </tr>\n",
       "    <tr>\n",
       "      <th>11</th>\n",
       "      <td>desativaram</td>\n",
       "      <td>0</td>\n",
       "    </tr>\n",
       "    <tr>\n",
       "      <th>12</th>\n",
       "      <td>aumentando</td>\n",
       "      <td>0</td>\n",
       "    </tr>\n",
       "    <tr>\n",
       "      <th>13</th>\n",
       "      <td>faliu</td>\n",
       "      <td>0</td>\n",
       "    </tr>\n",
       "  </tbody>\n",
       "</table>\n",
       "</div>"
      ],
      "text/plain": [
       "        Palavra  Quantidade de Palavra\n",
       "0   desrespeito                     20\n",
       "1      Roubaram                      5\n",
       "2      problema                      3\n",
       "3    reclamando                      1\n",
       "4      medíocre                      0\n",
       "5     reembolso                      0\n",
       "6    Nao atende                      0\n",
       "7   Nao consigo                      0\n",
       "8       desisti                      0\n",
       "9   pior cartao                      0\n",
       "10        roubo                      0\n",
       "11  desativaram                      0\n",
       "12   aumentando                      0\n",
       "13        faliu                      0"
      ]
     },
     "metadata": {},
     "output_type": "display_data"
    }
   ],
   "source": [
    "#soma a quantidade de comentarios baseado nas palavras chaves\n",
    "comentarios = baseView.sum().sort_values(ascending=False).to_list()\n",
    "participantes = baseView.sum().sort_values(ascending=False).index.to_list()\n",
    "base2 = pd.DataFrame(zip(participantes,comentarios))\n",
    "base2.columns = ['Palavra','Quantidade de Palavra']\n",
    "display(base2)\n",
    "base2.to_csv('bancopanComentario.csv')"
   ]
  },
  {
   "cell_type": "code",
   "execution_count": 44,
   "metadata": {},
   "outputs": [
    {
     "data": {
      "text/html": [
       "<div>\n",
       "<style scoped>\n",
       "    .dataframe tbody tr th:only-of-type {\n",
       "        vertical-align: middle;\n",
       "    }\n",
       "\n",
       "    .dataframe tbody tr th {\n",
       "        vertical-align: top;\n",
       "    }\n",
       "\n",
       "    .dataframe thead th {\n",
       "        text-align: right;\n",
       "    }\n",
       "</style>\n",
       "<table border=\"1\" class=\"dataframe\">\n",
       "  <thead>\n",
       "    <tr style=\"text-align: right;\">\n",
       "      <th></th>\n",
       "      <th>Palavra</th>\n",
       "      <th>Quantidade de Palavra</th>\n",
       "      <th>perc</th>\n",
       "    </tr>\n",
       "  </thead>\n",
       "  <tbody>\n",
       "    <tr>\n",
       "      <th>0</th>\n",
       "      <td>desrespeito</td>\n",
       "      <td>20</td>\n",
       "      <td>0.689655</td>\n",
       "    </tr>\n",
       "    <tr>\n",
       "      <th>1</th>\n",
       "      <td>Roubaram</td>\n",
       "      <td>5</td>\n",
       "      <td>0.172414</td>\n",
       "    </tr>\n",
       "    <tr>\n",
       "      <th>2</th>\n",
       "      <td>problema</td>\n",
       "      <td>3</td>\n",
       "      <td>0.103448</td>\n",
       "    </tr>\n",
       "    <tr>\n",
       "      <th>3</th>\n",
       "      <td>reclamando</td>\n",
       "      <td>1</td>\n",
       "      <td>0.034483</td>\n",
       "    </tr>\n",
       "    <tr>\n",
       "      <th>4</th>\n",
       "      <td>medíocre</td>\n",
       "      <td>0</td>\n",
       "      <td>0.000000</td>\n",
       "    </tr>\n",
       "    <tr>\n",
       "      <th>5</th>\n",
       "      <td>reembolso</td>\n",
       "      <td>0</td>\n",
       "      <td>0.000000</td>\n",
       "    </tr>\n",
       "    <tr>\n",
       "      <th>6</th>\n",
       "      <td>Nao atende</td>\n",
       "      <td>0</td>\n",
       "      <td>0.000000</td>\n",
       "    </tr>\n",
       "    <tr>\n",
       "      <th>7</th>\n",
       "      <td>Nao consigo</td>\n",
       "      <td>0</td>\n",
       "      <td>0.000000</td>\n",
       "    </tr>\n",
       "    <tr>\n",
       "      <th>8</th>\n",
       "      <td>desisti</td>\n",
       "      <td>0</td>\n",
       "      <td>0.000000</td>\n",
       "    </tr>\n",
       "    <tr>\n",
       "      <th>9</th>\n",
       "      <td>pior cartao</td>\n",
       "      <td>0</td>\n",
       "      <td>0.000000</td>\n",
       "    </tr>\n",
       "    <tr>\n",
       "      <th>10</th>\n",
       "      <td>roubo</td>\n",
       "      <td>0</td>\n",
       "      <td>0.000000</td>\n",
       "    </tr>\n",
       "    <tr>\n",
       "      <th>11</th>\n",
       "      <td>desativaram</td>\n",
       "      <td>0</td>\n",
       "      <td>0.000000</td>\n",
       "    </tr>\n",
       "    <tr>\n",
       "      <th>12</th>\n",
       "      <td>aumentando</td>\n",
       "      <td>0</td>\n",
       "      <td>0.000000</td>\n",
       "    </tr>\n",
       "    <tr>\n",
       "      <th>13</th>\n",
       "      <td>faliu</td>\n",
       "      <td>0</td>\n",
       "      <td>0.000000</td>\n",
       "    </tr>\n",
       "  </tbody>\n",
       "</table>\n",
       "</div>"
      ],
      "text/plain": [
       "        Palavra  Quantidade de Palavra      perc\n",
       "0   desrespeito                     20  0.689655\n",
       "1      Roubaram                      5  0.172414\n",
       "2      problema                      3  0.103448\n",
       "3    reclamando                      1  0.034483\n",
       "4      medíocre                      0  0.000000\n",
       "5     reembolso                      0  0.000000\n",
       "6    Nao atende                      0  0.000000\n",
       "7   Nao consigo                      0  0.000000\n",
       "8       desisti                      0  0.000000\n",
       "9   pior cartao                      0  0.000000\n",
       "10        roubo                      0  0.000000\n",
       "11  desativaram                      0  0.000000\n",
       "12   aumentando                      0  0.000000\n",
       "13        faliu                      0  0.000000"
      ]
     },
     "metadata": {},
     "output_type": "display_data"
    }
   ],
   "source": [
    "#percentual de comentarios com base no tweets\n",
    "total_comentarios = base2['Quantidade de Palavra'].sum()\n",
    "base2['perc'] = base2['Quantidade de Palavra']/total_comentarios\n",
    "display(base2)"
   ]
  },
  {
   "cell_type": "code",
   "execution_count": 45,
   "metadata": {},
   "outputs": [
    {
     "data": {
      "text/html": [
       "<div>\n",
       "<style scoped>\n",
       "    .dataframe tbody tr th:only-of-type {\n",
       "        vertical-align: middle;\n",
       "    }\n",
       "\n",
       "    .dataframe tbody tr th {\n",
       "        vertical-align: top;\n",
       "    }\n",
       "\n",
       "    .dataframe thead th {\n",
       "        text-align: right;\n",
       "    }\n",
       "</style>\n",
       "<table border=\"1\" class=\"dataframe\">\n",
       "  <thead>\n",
       "    <tr style=\"text-align: right;\">\n",
       "      <th></th>\n",
       "      <th>Palavra</th>\n",
       "      <th>Quantidade de Palavra</th>\n",
       "      <th>perc</th>\n",
       "      <th>perc_acum</th>\n",
       "    </tr>\n",
       "  </thead>\n",
       "  <tbody>\n",
       "    <tr>\n",
       "      <th>0</th>\n",
       "      <td>desrespeito</td>\n",
       "      <td>20</td>\n",
       "      <td>0.689655</td>\n",
       "      <td>0.689655</td>\n",
       "    </tr>\n",
       "    <tr>\n",
       "      <th>1</th>\n",
       "      <td>Roubaram</td>\n",
       "      <td>5</td>\n",
       "      <td>0.172414</td>\n",
       "      <td>0.862069</td>\n",
       "    </tr>\n",
       "    <tr>\n",
       "      <th>2</th>\n",
       "      <td>problema</td>\n",
       "      <td>3</td>\n",
       "      <td>0.103448</td>\n",
       "      <td>0.965517</td>\n",
       "    </tr>\n",
       "    <tr>\n",
       "      <th>3</th>\n",
       "      <td>reclamando</td>\n",
       "      <td>1</td>\n",
       "      <td>0.034483</td>\n",
       "      <td>1.000000</td>\n",
       "    </tr>\n",
       "    <tr>\n",
       "      <th>4</th>\n",
       "      <td>medíocre</td>\n",
       "      <td>0</td>\n",
       "      <td>0.000000</td>\n",
       "      <td>1.000000</td>\n",
       "    </tr>\n",
       "    <tr>\n",
       "      <th>5</th>\n",
       "      <td>reembolso</td>\n",
       "      <td>0</td>\n",
       "      <td>0.000000</td>\n",
       "      <td>1.000000</td>\n",
       "    </tr>\n",
       "    <tr>\n",
       "      <th>6</th>\n",
       "      <td>Nao atende</td>\n",
       "      <td>0</td>\n",
       "      <td>0.000000</td>\n",
       "      <td>1.000000</td>\n",
       "    </tr>\n",
       "    <tr>\n",
       "      <th>7</th>\n",
       "      <td>Nao consigo</td>\n",
       "      <td>0</td>\n",
       "      <td>0.000000</td>\n",
       "      <td>1.000000</td>\n",
       "    </tr>\n",
       "    <tr>\n",
       "      <th>8</th>\n",
       "      <td>desisti</td>\n",
       "      <td>0</td>\n",
       "      <td>0.000000</td>\n",
       "      <td>1.000000</td>\n",
       "    </tr>\n",
       "    <tr>\n",
       "      <th>9</th>\n",
       "      <td>pior cartao</td>\n",
       "      <td>0</td>\n",
       "      <td>0.000000</td>\n",
       "      <td>1.000000</td>\n",
       "    </tr>\n",
       "    <tr>\n",
       "      <th>10</th>\n",
       "      <td>roubo</td>\n",
       "      <td>0</td>\n",
       "      <td>0.000000</td>\n",
       "      <td>1.000000</td>\n",
       "    </tr>\n",
       "    <tr>\n",
       "      <th>11</th>\n",
       "      <td>desativaram</td>\n",
       "      <td>0</td>\n",
       "      <td>0.000000</td>\n",
       "      <td>1.000000</td>\n",
       "    </tr>\n",
       "    <tr>\n",
       "      <th>12</th>\n",
       "      <td>aumentando</td>\n",
       "      <td>0</td>\n",
       "      <td>0.000000</td>\n",
       "      <td>1.000000</td>\n",
       "    </tr>\n",
       "    <tr>\n",
       "      <th>13</th>\n",
       "      <td>faliu</td>\n",
       "      <td>0</td>\n",
       "      <td>0.000000</td>\n",
       "      <td>1.000000</td>\n",
       "    </tr>\n",
       "  </tbody>\n",
       "</table>\n",
       "</div>"
      ],
      "text/plain": [
       "        Palavra  Quantidade de Palavra      perc  perc_acum\n",
       "0   desrespeito                     20  0.689655   0.689655\n",
       "1      Roubaram                      5  0.172414   0.862069\n",
       "2      problema                      3  0.103448   0.965517\n",
       "3    reclamando                      1  0.034483   1.000000\n",
       "4      medíocre                      0  0.000000   1.000000\n",
       "5     reembolso                      0  0.000000   1.000000\n",
       "6    Nao atende                      0  0.000000   1.000000\n",
       "7   Nao consigo                      0  0.000000   1.000000\n",
       "8       desisti                      0  0.000000   1.000000\n",
       "9   pior cartao                      0  0.000000   1.000000\n",
       "10        roubo                      0  0.000000   1.000000\n",
       "11  desativaram                      0  0.000000   1.000000\n",
       "12   aumentando                      0  0.000000   1.000000\n",
       "13        faliu                      0  0.000000   1.000000"
      ]
     },
     "metadata": {},
     "output_type": "display_data"
    },
    {
     "data": {
      "text/html": [
       "<div>\n",
       "<style scoped>\n",
       "    .dataframe tbody tr th:only-of-type {\n",
       "        vertical-align: middle;\n",
       "    }\n",
       "\n",
       "    .dataframe tbody tr th {\n",
       "        vertical-align: top;\n",
       "    }\n",
       "\n",
       "    .dataframe thead th {\n",
       "        text-align: right;\n",
       "    }\n",
       "</style>\n",
       "<table border=\"1\" class=\"dataframe\">\n",
       "  <thead>\n",
       "    <tr style=\"text-align: right;\">\n",
       "      <th></th>\n",
       "      <th>Palavra</th>\n",
       "      <th>Quantidade de Palavra</th>\n",
       "      <th>perc</th>\n",
       "      <th>perc_acum</th>\n",
       "      <th>perc_form</th>\n",
       "      <th>perc_acum_form</th>\n",
       "    </tr>\n",
       "  </thead>\n",
       "  <tbody>\n",
       "    <tr>\n",
       "      <th>0</th>\n",
       "      <td>desrespeito</td>\n",
       "      <td>20</td>\n",
       "      <td>0.689655</td>\n",
       "      <td>0.689655</td>\n",
       "      <td>69.0%</td>\n",
       "      <td>69.0%</td>\n",
       "    </tr>\n",
       "    <tr>\n",
       "      <th>1</th>\n",
       "      <td>Roubaram</td>\n",
       "      <td>5</td>\n",
       "      <td>0.172414</td>\n",
       "      <td>0.862069</td>\n",
       "      <td>17.2%</td>\n",
       "      <td>86.2%</td>\n",
       "    </tr>\n",
       "    <tr>\n",
       "      <th>2</th>\n",
       "      <td>problema</td>\n",
       "      <td>3</td>\n",
       "      <td>0.103448</td>\n",
       "      <td>0.965517</td>\n",
       "      <td>10.3%</td>\n",
       "      <td>96.6%</td>\n",
       "    </tr>\n",
       "    <tr>\n",
       "      <th>3</th>\n",
       "      <td>reclamando</td>\n",
       "      <td>1</td>\n",
       "      <td>0.034483</td>\n",
       "      <td>1.000000</td>\n",
       "      <td>3.4%</td>\n",
       "      <td>100.0%</td>\n",
       "    </tr>\n",
       "    <tr>\n",
       "      <th>4</th>\n",
       "      <td>medíocre</td>\n",
       "      <td>0</td>\n",
       "      <td>0.000000</td>\n",
       "      <td>1.000000</td>\n",
       "      <td>0.0%</td>\n",
       "      <td>100.0%</td>\n",
       "    </tr>\n",
       "    <tr>\n",
       "      <th>5</th>\n",
       "      <td>reembolso</td>\n",
       "      <td>0</td>\n",
       "      <td>0.000000</td>\n",
       "      <td>1.000000</td>\n",
       "      <td>0.0%</td>\n",
       "      <td>100.0%</td>\n",
       "    </tr>\n",
       "    <tr>\n",
       "      <th>6</th>\n",
       "      <td>Nao atende</td>\n",
       "      <td>0</td>\n",
       "      <td>0.000000</td>\n",
       "      <td>1.000000</td>\n",
       "      <td>0.0%</td>\n",
       "      <td>100.0%</td>\n",
       "    </tr>\n",
       "    <tr>\n",
       "      <th>7</th>\n",
       "      <td>Nao consigo</td>\n",
       "      <td>0</td>\n",
       "      <td>0.000000</td>\n",
       "      <td>1.000000</td>\n",
       "      <td>0.0%</td>\n",
       "      <td>100.0%</td>\n",
       "    </tr>\n",
       "    <tr>\n",
       "      <th>8</th>\n",
       "      <td>desisti</td>\n",
       "      <td>0</td>\n",
       "      <td>0.000000</td>\n",
       "      <td>1.000000</td>\n",
       "      <td>0.0%</td>\n",
       "      <td>100.0%</td>\n",
       "    </tr>\n",
       "    <tr>\n",
       "      <th>9</th>\n",
       "      <td>pior cartao</td>\n",
       "      <td>0</td>\n",
       "      <td>0.000000</td>\n",
       "      <td>1.000000</td>\n",
       "      <td>0.0%</td>\n",
       "      <td>100.0%</td>\n",
       "    </tr>\n",
       "    <tr>\n",
       "      <th>10</th>\n",
       "      <td>roubo</td>\n",
       "      <td>0</td>\n",
       "      <td>0.000000</td>\n",
       "      <td>1.000000</td>\n",
       "      <td>0.0%</td>\n",
       "      <td>100.0%</td>\n",
       "    </tr>\n",
       "    <tr>\n",
       "      <th>11</th>\n",
       "      <td>desativaram</td>\n",
       "      <td>0</td>\n",
       "      <td>0.000000</td>\n",
       "      <td>1.000000</td>\n",
       "      <td>0.0%</td>\n",
       "      <td>100.0%</td>\n",
       "    </tr>\n",
       "    <tr>\n",
       "      <th>12</th>\n",
       "      <td>aumentando</td>\n",
       "      <td>0</td>\n",
       "      <td>0.000000</td>\n",
       "      <td>1.000000</td>\n",
       "      <td>0.0%</td>\n",
       "      <td>100.0%</td>\n",
       "    </tr>\n",
       "    <tr>\n",
       "      <th>13</th>\n",
       "      <td>faliu</td>\n",
       "      <td>0</td>\n",
       "      <td>0.000000</td>\n",
       "      <td>1.000000</td>\n",
       "      <td>0.0%</td>\n",
       "      <td>100.0%</td>\n",
       "    </tr>\n",
       "  </tbody>\n",
       "</table>\n",
       "</div>"
      ],
      "text/plain": [
       "        Palavra  Quantidade de Palavra      perc  perc_acum perc_form  \\\n",
       "0   desrespeito                     20  0.689655   0.689655     69.0%   \n",
       "1      Roubaram                      5  0.172414   0.862069     17.2%   \n",
       "2      problema                      3  0.103448   0.965517     10.3%   \n",
       "3    reclamando                      1  0.034483   1.000000      3.4%   \n",
       "4      medíocre                      0  0.000000   1.000000      0.0%   \n",
       "5     reembolso                      0  0.000000   1.000000      0.0%   \n",
       "6    Nao atende                      0  0.000000   1.000000      0.0%   \n",
       "7   Nao consigo                      0  0.000000   1.000000      0.0%   \n",
       "8       desisti                      0  0.000000   1.000000      0.0%   \n",
       "9   pior cartao                      0  0.000000   1.000000      0.0%   \n",
       "10        roubo                      0  0.000000   1.000000      0.0%   \n",
       "11  desativaram                      0  0.000000   1.000000      0.0%   \n",
       "12   aumentando                      0  0.000000   1.000000      0.0%   \n",
       "13        faliu                      0  0.000000   1.000000      0.0%   \n",
       "\n",
       "   perc_acum_form  \n",
       "0           69.0%  \n",
       "1           86.2%  \n",
       "2           96.6%  \n",
       "3          100.0%  \n",
       "4          100.0%  \n",
       "5          100.0%  \n",
       "6          100.0%  \n",
       "7          100.0%  \n",
       "8          100.0%  \n",
       "9          100.0%  \n",
       "10         100.0%  \n",
       "11         100.0%  \n",
       "12         100.0%  \n",
       "13         100.0%  "
      ]
     },
     "metadata": {},
     "output_type": "display_data"
    },
    {
     "data": {
      "text/html": [
       "<div>\n",
       "<style scoped>\n",
       "    .dataframe tbody tr th:only-of-type {\n",
       "        vertical-align: middle;\n",
       "    }\n",
       "\n",
       "    .dataframe tbody tr th {\n",
       "        vertical-align: top;\n",
       "    }\n",
       "\n",
       "    .dataframe thead th {\n",
       "        text-align: right;\n",
       "    }\n",
       "</style>\n",
       "<table border=\"1\" class=\"dataframe\">\n",
       "  <thead>\n",
       "    <tr style=\"text-align: right;\">\n",
       "      <th></th>\n",
       "      <th>Palavra</th>\n",
       "      <th>Quantidade de Palavra</th>\n",
       "      <th>perc_form</th>\n",
       "      <th>perc_acum_form</th>\n",
       "    </tr>\n",
       "  </thead>\n",
       "  <tbody>\n",
       "    <tr>\n",
       "      <th>0</th>\n",
       "      <td>desrespeito</td>\n",
       "      <td>20</td>\n",
       "      <td>69.0%</td>\n",
       "      <td>69.0%</td>\n",
       "    </tr>\n",
       "    <tr>\n",
       "      <th>1</th>\n",
       "      <td>Roubaram</td>\n",
       "      <td>5</td>\n",
       "      <td>17.2%</td>\n",
       "      <td>86.2%</td>\n",
       "    </tr>\n",
       "    <tr>\n",
       "      <th>2</th>\n",
       "      <td>problema</td>\n",
       "      <td>3</td>\n",
       "      <td>10.3%</td>\n",
       "      <td>96.6%</td>\n",
       "    </tr>\n",
       "    <tr>\n",
       "      <th>3</th>\n",
       "      <td>reclamando</td>\n",
       "      <td>1</td>\n",
       "      <td>3.4%</td>\n",
       "      <td>100.0%</td>\n",
       "    </tr>\n",
       "    <tr>\n",
       "      <th>4</th>\n",
       "      <td>medíocre</td>\n",
       "      <td>0</td>\n",
       "      <td>0.0%</td>\n",
       "      <td>100.0%</td>\n",
       "    </tr>\n",
       "    <tr>\n",
       "      <th>5</th>\n",
       "      <td>reembolso</td>\n",
       "      <td>0</td>\n",
       "      <td>0.0%</td>\n",
       "      <td>100.0%</td>\n",
       "    </tr>\n",
       "    <tr>\n",
       "      <th>6</th>\n",
       "      <td>Nao atende</td>\n",
       "      <td>0</td>\n",
       "      <td>0.0%</td>\n",
       "      <td>100.0%</td>\n",
       "    </tr>\n",
       "    <tr>\n",
       "      <th>7</th>\n",
       "      <td>Nao consigo</td>\n",
       "      <td>0</td>\n",
       "      <td>0.0%</td>\n",
       "      <td>100.0%</td>\n",
       "    </tr>\n",
       "    <tr>\n",
       "      <th>8</th>\n",
       "      <td>desisti</td>\n",
       "      <td>0</td>\n",
       "      <td>0.0%</td>\n",
       "      <td>100.0%</td>\n",
       "    </tr>\n",
       "    <tr>\n",
       "      <th>9</th>\n",
       "      <td>pior cartao</td>\n",
       "      <td>0</td>\n",
       "      <td>0.0%</td>\n",
       "      <td>100.0%</td>\n",
       "    </tr>\n",
       "    <tr>\n",
       "      <th>10</th>\n",
       "      <td>roubo</td>\n",
       "      <td>0</td>\n",
       "      <td>0.0%</td>\n",
       "      <td>100.0%</td>\n",
       "    </tr>\n",
       "    <tr>\n",
       "      <th>11</th>\n",
       "      <td>desativaram</td>\n",
       "      <td>0</td>\n",
       "      <td>0.0%</td>\n",
       "      <td>100.0%</td>\n",
       "    </tr>\n",
       "    <tr>\n",
       "      <th>12</th>\n",
       "      <td>aumentando</td>\n",
       "      <td>0</td>\n",
       "      <td>0.0%</td>\n",
       "      <td>100.0%</td>\n",
       "    </tr>\n",
       "    <tr>\n",
       "      <th>13</th>\n",
       "      <td>faliu</td>\n",
       "      <td>0</td>\n",
       "      <td>0.0%</td>\n",
       "      <td>100.0%</td>\n",
       "    </tr>\n",
       "  </tbody>\n",
       "</table>\n",
       "</div>"
      ],
      "text/plain": [
       "        Palavra  Quantidade de Palavra perc_form perc_acum_form\n",
       "0   desrespeito                     20     69.0%          69.0%\n",
       "1      Roubaram                      5     17.2%          86.2%\n",
       "2      problema                      3     10.3%          96.6%\n",
       "3    reclamando                      1      3.4%         100.0%\n",
       "4      medíocre                      0      0.0%         100.0%\n",
       "5     reembolso                      0      0.0%         100.0%\n",
       "6    Nao atende                      0      0.0%         100.0%\n",
       "7   Nao consigo                      0      0.0%         100.0%\n",
       "8       desisti                      0      0.0%         100.0%\n",
       "9   pior cartao                      0      0.0%         100.0%\n",
       "10        roubo                      0      0.0%         100.0%\n",
       "11  desativaram                      0      0.0%         100.0%\n",
       "12   aumentando                      0      0.0%         100.0%\n",
       "13        faliu                      0      0.0%         100.0%"
      ]
     },
     "metadata": {},
     "output_type": "display_data"
    }
   ],
   "source": [
    "base2['perc_acum'] = base2['perc'].cumsum()\n",
    "display(base2)\n",
    "base2['perc_form'] = base2['perc'].map(\"{:.1%}\".format)\n",
    "base2['perc_acum_form'] = base2['perc_acum'].map(\"{:.1%}\".format)\n",
    "display(base2)\n",
    "display(base2[['Palavra','Quantidade de Palavra','perc_form','perc_acum_form']])\n",
    "base2.to_csv('bancopanPercPorcentagem.csv')"
   ]
  },
  {
   "cell_type": "code",
   "execution_count": 46,
   "metadata": {},
   "outputs": [],
   "source": [
    "#Caso queira salvar os dados em banco de dados ao invés de arquivos\n",
    "import time\n",
    "import sqlite3"
   ]
  },
  {
   "cell_type": "code",
   "execution_count": 47,
   "metadata": {},
   "outputs": [],
   "source": [
    "#Cria o banco de dados\n",
    "con = sqlite3.connect('BD_BancoPan.db')\n",
    "cur = con.cursor()"
   ]
  },
  {
   "cell_type": "code",
   "execution_count": 48,
   "metadata": {},
   "outputs": [
    {
     "name": "stdout",
     "output_type": "stream",
     "text": [
      "Response(data=[<Tweet id=1564629725703806980 text='@bancopan Banco pan quero mimo 🥺'>, <Tweet id=1564628688351674374 text='@bancopan Não 😨😱😰'>, <Tweet id=1564627888573501443 text='@bancopan @bancopan porque o aplicativo de vocês nunca funciona? E por que seus lindos atendentes me ligam de 30 em 30 segundos quando o que quero solicitar é bem simples ( funcionaria através de um único email).'>, <Tweet id=1564622799951597587 text='@c_lanzotti @bancopan Eu só quero me desvincular desse banco, só dor de cabeça'>, <Tweet id=1564622585064734726 text='@712YUNG @bancopan acontece o mesmo comigo! vou pagar essa fatura e cancelar a conta. esse pan tá mais pra uma piada. deixa a Jojo saber disso...'>, <Tweet id=1564622521093296132 text='@nandomtts @spbancarios @s @santander_br @Bradesco @itau @bancosafra @BancodoBrasil @bancopan @BancoOriginal @FEBRABAN @Banrisul #PropostaDecenteOuGreve\\n\\n@itau @Bradesco @Santander_br @BancodoBrasil @Caixa @FEBRABAN\\n\\n😡 Fenaban!\\n🤬🤬\\n\\n@spbancarios\\n@ivonesilva\\n@mrosanihashizu1\\n@NeivaMrs\\n@fetecsp\\n@alinemolina1\\n@Contraf_CUT\\n@Juvandia\\n@CUT_Brasil\\n@CUTsaopaulo\\n@lcmarcolino\\n@Afubesp_\\n@camiloafubesp \\n@RitaBerlofa'>, <Tweet id=1564622322962731017 text='@nandomtts @spbancarios @s @santander_br @Bradesco @itau @bancosafra @BancodoBrasil @bancopan @BancoOriginal @FEBRABAN @Banrisul #PropostaDecenteOuGreve\\n\\n@itau @Bradesco @Santander_br @BancodoBrasil @Caixa @FEBRABAN\\n\\n😡 Fenaban!\\n🤬🤬\\n\\n@spbancarios\\n@ivonesilva\\n@mrosanihashizu1\\n@NeivaMrs\\n@fetecsp\\n@alinemolina1\\n@Contraf_CUT\\n@Juvandia\\n@CUT_Brasil\\n@CUTsaopaulo\\n@lcmarcolino\\n@Afubesp_\\n@camiloafubesp \\n@RitaBerlofa'>, <Tweet id=1564621963011792901 text='@bancopan e aí? suporte horrível. vou pagar essa fatura e cancelar a conta com vocês. segunda vez que acontece isso.'>, <Tweet id=1564621327595704326 text='@bancopan Nada feito https://t.co/lRNZHMvVU8'>, <Tweet id=1564619829608431625 text='@bancopan cadê essa disposição toda pra ajudar? o que fazer quando dá esse erro e nem deixa criar uma nova senha?'>, <Tweet id=1564618751135420428 text='@bancopan mas a conta não entra! \"ops, tivemos um problema inesperado, tente novamente\". e com isso esqueci a senha, mas não dá pra resetar (dá o mesmo erro).'>, <Tweet id=1564617008716693518 text='@JorgeWPena @bancopan Veja se não sujaram seu nome, amigo'>, <Tweet id=1564615303899877382 text='Mais uma vez me ligam dizendo ser só @bancopan e que há um empréstimo pra cair na minha conta e que devo ligar para 0800 0002104. Semana passada fiz o tal cancelamento de consignado e descobri que não havia consignando algum no INSS. O banco tens e fazer algo contra'>, <Tweet id=1564612983233421319 text='@bancopan A data está correta. Já reiniciei o celular, desinstalei e instalei de novo o app e o erro continua.'>, <Tweet id=1564607695478456330 text='@bancopan E porque o site de vocês está fora do ar? E pelo telefone a opção 9 não é mais para falar com atendente? Estou preocupado.'>, <Tweet id=1564607492906156037 text='@bancopan @bancopan não consigo acessar o app. Podem me ajudar, por favor?'>, <Tweet id=1564602969131466752 text='Por engano, paguei R$ 140 a mais na fatura do cartão do @bancopan. Passou-se meses e ainda não me devolveram o valor, mesmo depois de entrar em contato. Atendimento muito ruim. Não recomendo a ninguém'>, <Tweet id=1564601352176603137 text='@bancopan @bancopan preciso de suporte, falar com alguém. Isso é possível?'>, <Tweet id=1564601129362759686 text='@bancopan Isso não acontece. Fico esperando e nada!'>, <Tweet id=1564599007753768961 text='@bancopan Como faz para falar com um atendente? Estou horas tentando e nada! Só atendimento eletrônico e não resolve meu problema, difícil vocês,hein!'>, <Tweet id=1564588596392230912 text='Alô @bancopan  o que está acontecendo com seu aplicativo 🤦🏻\\u200d♂️resolve isso aí'>, <Tweet id=1564553613397184512 text='@Ricardo77460721 @bancopan Até eu preocupei agora....eu fiz contrato com o banco PAN'>, <Tweet id=1564553589082710017 text='@CardozoMClaudia Tem um cartão, não vou dizer que é o @bancopan, que liga e manda mensagem avisando que a fatura vai vencer. É o inferno antes, durante e depois da dívida existir!'>, <Tweet id=1564530634600636416 text='RT @bancopan: 😎🌞 Você recebeu um voucher de viagem e pode ir a qualquer lugar do mundo. Para onde iria? 😎🌞'>, <Tweet id=1564530620591706112 text='RT @bancopan: Se sua vida financeira fosse um jogo, em qual fase você estaria? 🤔\\n1. Iniciou a 1ª fase - fez as compras do mês. ✅ \\n2. Enfren…'>, <Tweet id=1564454564170010624 text='Meu limite não tá sendo suficiente é o @bancopan NAO FAZ NADA!!!!'>, <Tweet id=1564436662544998405 text='@DiegoCorrets @bancopan Faça! Sério!'>, <Tweet id=1564436013887488005 text='Desculpa @AlgarTelecom por ter reclamado do seu atendimento há alguns dias.\\nNada supera o péssimo atendimento do @bancopan !!'>, <Tweet id=1564435741664477186 text='@bancopan Isso já estar pago e fica no sistema de vcs como atraso e depois na profayura vem os juros e aí eu tenho que ficar ligando pra vcs com esse atendimento horrível para poder resolver isso. Quando eu falo que esse banco é uma MERDA não é atoa https://t.co/Hba7NJrZvc'>, <Tweet id=1564434505594798081 text='@anaacaeb @bancopan Vou fazer o mesmo.'>, <Tweet id=1564434361998610434 text='@DiegoCorrets @bancopan Ou com o meu limite que foi rebaixado DO NADA. Ainda bem que já me livrei dessa porcaria de banco.'>, <Tweet id=1564431859332816897 text='RT @nandomtts: Não aceitarmos desrespeito contra @s trabalhadorxs. \\n\\n#AgoraÉGreve\\n@santander_br @Bradesco  @itau @bancosafra  @BancodoBrasi…'>, <Tweet id=1564429428112982017 text='@nandomtts @s @santander_br @Bradesco @itau @bancosafra @BancodoBrasil @bancopan @BancoOriginal @FEBRABAN @Banrisul ESTUDAR PARA ESCREVER CORRETAMENTE NÃO QUER. O \"TRABALHADORXS\" É A IGNORÂNCIA EM SUA ESSÊNCIA.\\n#AgoraÉgreve'>, <Tweet id=1564423455554019329 text='@bancopan ACABARAM DE ABRIR UMA CONTA NESSE BANCO SEM TER SIDO EU, E PELO JEITO ACONTECEU COM OUTRAS PESSOAS!!!!'>, <Tweet id=1564413347075956745 text='@bancopan O pagseguro está bloqueando saldo do trabalhador e cancelando as contas, falta de respeito. Arrependida de ter comprasdo essa maldita máquina. 3 meses tentando sacar 1.200 que eles estão segurando e não devolvem.'>, <Tweet id=1564411574001045504 text='@bancopan Kkkk tentei fazer um empréstimo, pq sou beneficiário do bolsa família, cai em site fraudulento, tenho anti vírus no meu celular 📱, e tem outra tenho o app de vcs no meu celular, e através dele fui encaminhado pra um canal através de WhatsApp, deu ruim 👎'>, <Tweet id=1564398620035760128 text='@bancopan Queria Mimi 🥺'>, <Tweet id=1564396110642290688 text='RT @nandomtts: Não aceitarmos desrespeito contra @s trabalhadorxs. \\n\\n#AgoraÉGreve\\n@santander_br @Bradesco  @itau @bancosafra  @BancodoBrasi…'>, <Tweet id=1564395162960265216 text='#queraiva do @bancopan sempre atrasando a vida … agora tô sem #dinheiro pq simplesmente ele não quer abrir e ninguém atende nesse banco https://t.co/5NPUyewQgb'>, <Tweet id=1564393093247520774 text='Elogiei o @bancopan e ele está fazendo uma palhaçada comigo 🤡'>, <Tweet id=1564391541015191553 text='Banco pan lixo! Abaixou minha fatura de 1200 pra 100 tmnc \\n@bancopan falta de noção em cara'>, <Tweet id=1564383815144972289 text='@bancopan Israel\\nsonho com isso'>, <Tweet id=1564381962311188482 text='RT @metatreze: #AgoraÉGreve @itau @santander_br @Bradesco @bancopan @BancoOriginal @Bancointer @BancodoBrasil @BancoOriginal @FEBRABAN http…'>, <Tweet id=1564379556320010241 text='RT @nandomtts: Não aceitarmos desrespeito contra @s trabalhadorxs. \\n\\n#AgoraÉGreve\\n@santander_br @Bradesco  @itau @bancosafra  @BancodoBrasi…'>, <Tweet id=1564378545618620418 text='@bancopan Quero entrar na minha conta, esqueci a senha, eu busco recurso no app é só aparece isso. Resolva. https://t.co/OZSycLec0a'>, <Tweet id=1564377671127240705 text='RT @nandomtts: Não aceitarmos desrespeito contra @s trabalhadorxs. \\n\\n#AgoraÉGreve\\n@santander_br @Bradesco  @itau @bancosafra  @BancodoBrasi…'>, <Tweet id=1564377088399908867 text='RT @nandomtts: Não aceitarmos desrespeito contra @s trabalhadorxs. \\n\\n#AgoraÉGreve\\n@santander_br @Bradesco  @itau @bancosafra  @BancodoBrasi…'>, <Tweet id=1564376759373647873 text='@bancopan Egito, pois meu futuro marido mora lá'>, <Tweet id=1564376177632067590 text='@nandomtts @spbancarios @s @santander_br @Bradesco @itau @bancosafra @BancodoBrasil @bancopan @BancoOriginal @FEBRABAN @Banrisul #grevedosbancarios2022 \\n#propostadecenteougreve #agoraégreve'>, <Tweet id=1564376050905358336 text='@nandomtts @spbancarios @s @santander_br @Bradesco @itau @bancosafra @BancodoBrasil @bancopan @BancoOriginal @FEBRABAN @Banrisul #grevedosbancarios2022 \\n#propostadecenteougreve #agoraégreve'>, <Tweet id=1564373464030625795 text='@nandomtts @s @santander_br @Bradesco @itau @bancosafra @BancodoBrasil @bancopan @BancoOriginal @FEBRABAN @Banrisul #AgoraÉGreve https://t.co/Ad6sKBfn7j'>, <Tweet id=1564372698347851776 text='RT @nandomtts: Não aceitarmos desrespeito contra @s trabalhadorxs. \\n\\n#AgoraÉGreve\\n@santander_br @Bradesco  @itau @bancosafra  @BancodoBrasi…'>, <Tweet id=1564369686158008322 text='@bancopan Dubai 😍'>, <Tweet id=1564368125952491526 text='Liguei 4x na central do @bancopan e a ligação simplesmente cai quando alguém atende 🤡'>, <Tweet id=1564366954152050690 text='@bancopan Suíça'>, <Tweet id=1564360013489078273 text='RT @diogenes_fran: @metatreze @itau @santander_br @Bradesco @bancopan @BancoOriginal @Bancointer @BancodoBrasil @FEBRABAN #AgoraÉGreve!'>, <Tweet id=1564359950138331138 text='RT @metatreze: #AgoraÉGreve @itau @santander_br @Bradesco @bancopan @BancoOriginal @Bancointer @BancodoBrasil @BancoOriginal @FEBRABAN http…'>, <Tweet id=1564358172948811776 text='RT @bancopan: Se sua vida financeira fosse um jogo, em qual fase você estaria? 🤔\\n1. Iniciou a 1ª fase - fez as compras do mês. ✅ \\n2. Enfren…'>, <Tweet id=1564356471722213376 text='RT @nandomtts: Não aceitarmos desrespeito contra @s trabalhadorxs. \\n\\n#AgoraÉGreve\\n@santander_br @Bradesco  @itau @bancosafra  @BancodoBrasi…'>, <Tweet id=1564352960284475405 text='RT @nandomtts: Não aceitarmos desrespeito contra @s trabalhadorxs. \\n\\n#AgoraÉGreve\\n@santander_br @Bradesco  @itau @bancosafra  @BancodoBrasi…'>, <Tweet id=1564352391436173313 text='RT @nandomtts: Não aceitarmos desrespeito contra @s trabalhadorxs. \\n\\n#AgoraÉGreve\\n@santander_br @Bradesco  @itau @bancosafra  @BancodoBrasi…'>, <Tweet id=1564352256606101507 text='RT @nandomtts: Não aceitarmos desrespeito contra @s trabalhadorxs. \\n\\n#AgoraÉGreve\\n@santander_br @Bradesco  @itau @bancosafra  @BancodoBrasi…'>, <Tweet id=1564351601183059968 text='@metatreze @itau @santander_br @Bradesco @bancopan @BancoOriginal @Bancointer @BancodoBrasil @FEBRABAN #AgoraÉGreve!'>, <Tweet id=1564350769075290113 text='RT @bancopan: 😎🌞 Você recebeu um voucher de viagem e pode ir a qualquer lugar do mundo. Para onde iria? 😎🌞'>, <Tweet id=1564349490232016899 text='RT @luzeniltoncreto: @nandomtts @s @santander_br @Bradesco @itau @bancosafra @BancodoBrasil @bancopan @BancoOriginal @FEBRABAN @Banrisul Ba…'>, <Tweet id=1564349396917129216 text='#AgoraÉGreve @itau @santander_br @Bradesco @bancopan @BancoOriginal @Bancointer @BancodoBrasil @BancoOriginal @FEBRABAN https://t.co/2ePggJqGfe'>, <Tweet id=1564349100098785281 text='@bancopan Japão conhecer a ilha de Okinawa'>, <Tweet id=1564348337016430592 text='@SimoneTardim @spbancarios @Bradesco @itau @santander_br @BancodoBrasil @caixaeconomica @bancopan @Citibank @bancosafra Não vamos aceitar. Fenaban apresentou proposta final rebaixada e com perdas, @BancodoBrasil segue querendo diminuir as avaliações da GDP, em 1 semestre ninguém consegue recuperar! #AgoraÉGreve'>, <Tweet id=1564347842881355780 text='@SimoneTardim @spbancarios @Bradesco @itau @caixaeconomica @santander_br @BancodoBrasil @Citi @Citibank @bancosafra @bancopan Não vamos aceitar. Fenaban apresentou proposta final rebaixada e com perdas, @BancodoBrasil segue querendo diminuir as avaliações da GDP, em 1 semestre ninguém consegue recuperar! #AgoraÉGreve'>, <Tweet id=1564347297877606401 text='#AgoraÉGreve \\n@spbancarios \\n@Bradesco \\n@itau \\n@caixaeconomica \\n@santander_br \\n@BancodoBrasil \\n@Citi \\n@Citibank \\n@bancosafra \\n@bancopan https://t.co/vlZMp3Ciai'>, <Tweet id=1564347228050923521 text='RT @nandomtts: Não aceitarmos desrespeito contra @s trabalhadorxs. \\n\\n#AgoraÉGreve\\n@santander_br @Bradesco  @itau @bancosafra  @BancodoBrasi…'>, <Tweet id=1564346927956824071 text='#AgoraÉGreve\\n@spbancarios \\n@Bradesco \\n@itau \\n@santander_br \\n@BancodoBrasil \\n@caixaeconomica \\n@bancopan \\n@Citibank \\n@bancosafra https://t.co/aGoRPS13TP'>, <Tweet id=1564346242653687809 text='@nandomtts @s @santander_br @Bradesco @itau @bancosafra @BancodoBrasil @bancopan @BancoOriginal @FEBRABAN @Banrisul Fenaban apresentou proposta final rebaixada e com perdas, @BancodoBrasil segue querendo diminuir as avaliações da GDP, em 1 semestre ninguém consegue recuperar! #AgoraÉGreve . Não vamos aceitar!'>, <Tweet id=1564345710438408194 text='@nandomtts @s @santander_br @Bradesco @itau @bancosafra @BancodoBrasil @bancopan @BancoOriginal @FEBRABAN @Banrisul Fenaban apresentou proposta final rebaixada e com perdas, @BancodoBrasil segue querendo diminuir as avaliações da GDP, em 1 semestre ninguém consegue recuperar! #AgoraÉGreve . Não vamos aceitar!'>, <Tweet id=1564345531148664836 text='RT @nandomtts: Não aceitarmos desrespeito contra @s trabalhadorxs. \\n\\n#AgoraÉGreve\\n@santander_br @Bradesco  @itau @bancosafra  @BancodoBrasi…'>, <Tweet id=1564344527619497986 text='@nandomtts @s @santander_br @Bradesco @itau @bancosafra @BancodoBrasil @bancopan @BancoOriginal @FEBRABAN @Banrisul Bancos querem greve! Fenaban apresentou proposta final com perdas já recusada pela categoria e agora querem impor mais perdas em 2023. Comando está reunido neste momento para organizar e mobilizar o movimento para a luta. #AgoraÉGreve!'>, <Tweet id=1564344468253327365 text='Não aceitarmos desrespeito contra @s trabalhadorxs. \\n\\n#AgoraÉGreve\\n@santander_br @Bradesco  @itau @bancosafra  @BancodoBrasil  @bancopan @BancoOriginal @FEBRABAN @Banrisul https://t.co/3sBrIP5LRA'>, <Tweet id=1564344328679555074 text='Não aceitarmos desrespeito contra @s trabalhadorxs. \\n\\n#AgoraÉGreve\\n@santander_br @Bradesco  @itau @bancosafra  @BancodoBrasil  @bancopan @BancoOriginal @FEBRABAN @Banrisul https://t.co/sd3PgI66ux'>, <Tweet id=1564344262187274247 text='RT @nandomtts: Não aceitarmos desrespeito contra @s trabalhadorxs. \\n\\n#AgoraÉGreve\\n@santander_br @Bradesco  @itau @bancosafra  @BancodoBrasi…'>, <Tweet id=1564344255975510017 text='Não aceitarmos desrespeito contra @s trabalhadorxs. \\n\\n#AgoraÉGreve\\n@santander_br @Bradesco  @itau @bancosafra  @BancodoBrasil  @bancopan @BancoOriginal @FEBRABAN @Banrisul https://t.co/IqQeeqtIq2'>, <Tweet id=1564343390979907592 text='Não aceitarmos desrespeito contra @s trabalhadorxs. \\n\\n#AgoraÉGreve\\n@santander_br @Bradesco  @itau @bancosafra  @BancodoBrasil  @bancopan @BancoOriginal @FEBRABAN @Banrisul https://t.co/aJtIvYS3n6'>, <Tweet id=1564343052440948737 text='Não aceitarmos desrespeito contra @s trabalhadorxs. \\n\\n#AgoraÉGreve\\n@santander_br @Bradesco  @itau @bancosafra  @BancodoBrasil  @bancopan @BancoOriginal @FEBRABAN @Banrisul https://t.co/4J8T67Sj27'>, <Tweet id=1564342334422192136 text='Não aceitarmos desrespeito contra @s trabalhadorxs. \\n\\n#AgoraÉGreve\\n@santander_br @Bradesco  @itau @bancosafra  @BancodoBrasil  @bancopan @BancoOriginal @FEBRABAN @Banrisul https://t.co/RFvsPlBrk8'>, <Tweet id=1564342250322202628 text='Não aceitarmos desrespeito contra @s trabalhadorxs. \\n\\n#AgoraÉGreve\\n@santander_br @Bradesco  @itau @bancosafra  @BancodoBrasil  @bancopan @BancoOriginal @FEBRABAN @Banrisul https://t.co/EF8VScyaiV'>, <Tweet id=1564337728010993665 text='@bancopan Em vez de fazer jogos, vocês deveriam resolver o meu problema. Com o pagamento da minha fatura do cartão, que não foi registrado.'>, <Tweet id=1564335342559404033 text='@bancopan Nao sei o que DM….\\nO fato é que continuam ligando  no celular!\\nO que preciso fazer para deixar de ser importunado?'>, <Tweet id=1564328726145417216 text='@bancopan GOSTARIA DE SABER COMO VOU PAGAR O BOLETO GERADO PELO SISTEMA!! AI SÓ EM 5 DIAS UTEIS PARA CONSEGUI NOVA IMPRESSÃO!!! ESTÃO DE PARABÉNS ASSIM ESTA FACIL GANHAR COM OS JUROS GERADOS!!\\n#BANCOPANLIXO https://t.co/5ad7nju5jI'>, <Tweet id=1564319867678892032 text='@bancopan vcs só me iludem, passam dias oferecendo empréstimo, dava erro toda vezes que tentava concluir pelo app e agora some a \" oferta \"'>, <Tweet id=1564300105045377026 text='@bancopan Italia'>, <Tweet id=1564298292867092489 text='@bancopan Kakakak eu venderia pra pagar as contas.🤣🤣🤣'>, <Tweet id=1564281494348111873 text='@bancopan Inglaterra.'>, <Tweet id=1564278697091293192 text='A dificuldade pra falar com atendente do @bancopan pra contestar uma compra no cartão é surreal. Não indico a ninguém.'>, <Tweet id=1564269799521353728 text='@bancopan @bancopan roubaram a porra do meu dinheiro!!'>, <Tweet id=1564269491256807427 text='@bancopan decidiram não aceitar a mesma senha que eu usava pra entrar no app dizendo que a senha está errada, sendo que nunca mudei. coloco p mudar a senha e falam q vão mandar codigo no email e estou a 2hrs esperando a porra do codigo\\nsimplesmente me ROUBARAM filhos da puta'>, <Tweet id=1564269241196597249 text='@bancopan eu quero q vcs vão pra casa do caralho\\nabri essa porra dessa conta pq tinham me mandado uma PROPOSTA de cartao de credito, quando abri não tinha porra de crédito nenhum\\nai quando decido usar essa merda e transfiro algum dinheiro, decidem não aceitar mais a senha'>, <Tweet id=1564268466345021442 text='Tô muito puto com o @bancopan'>, <Tweet id=1564263598674907137 text='@bancopan  assim é fácil ganhar juros !!! deixa o sistema fora do ar para ao chamar o chat pagar 3 dias após a data escolhida !!!\\n#bancopanlixo'>, <Tweet id=1564256325802098689 text='Alguém sabe algum contato do @bancopan  que atenda ?\\nFizeram um cartão consignado pra minha tia de 60 anos e tão descontando do benefício dela 🙄'>, <Tweet id=1564253271518224384 text='Há dias eu estou tentando entrar em contato com algum atendente do Banco Pan e simplesmente não consigo. Ai você apela para as redes sociais e eles fazem você engolir uma conversinha de que alguém vai entrar em contato com você, e ninguém nunca entra. Fujam do @bancopan'>, <Tweet id=1564240390009520131 text='Eu com a camisa do @bancopan no busão (que ganhei do @domingao ) o povo perguntando onde ficava a agência \\n\\nQuero meu dinheiro do publi 🗣🗣🗣'>], includes={}, errors=[], meta={'newest_id': '1564629725703806980', 'oldest_id': '1564240390009520131', 'result_count': 100, 'next_token': 'b26v89c19zqg8o3fpz8lkp66ktaq3zb42iqfj8u081t31'})\n"
     ]
    }
   ],
   "source": [
    "print(resposta)"
   ]
  },
  {
   "cell_type": "code",
   "execution_count": 49,
   "metadata": {},
   "outputs": [
    {
     "data": {
      "text/plain": [
       "<sqlite3.Cursor at 0x1dff8f38490>"
      ]
     },
     "execution_count": 49,
     "metadata": {},
     "output_type": "execute_result"
    }
   ],
   "source": [
    "# Criar a minha tabela\n",
    "cur.execute('CREATE TABLE registros (num INT,texto TEXT,RT TEXT)')"
   ]
  },
  {
   "cell_type": "code",
   "execution_count": 50,
   "metadata": {},
   "outputs": [
    {
     "data": {
      "text/plain": [
       "'@bancopan Banco pan quero mimo 🥺'"
      ]
     },
     "metadata": {},
     "output_type": "display_data"
    },
    {
     "data": {
      "text/plain": [
       "'@bancopan Não 😨😱😰'"
      ]
     },
     "metadata": {},
     "output_type": "display_data"
    },
    {
     "data": {
      "text/plain": [
       "'@bancopan @bancopan porque o aplicativo de vocês nunca funciona? E por que seus lindos atendentes me ligam de 30 em 30 segundos quando o que quero solicitar é bem simples ( funcionaria através de um único email).'"
      ]
     },
     "metadata": {},
     "output_type": "display_data"
    },
    {
     "data": {
      "text/plain": [
       "'@c_lanzotti @bancopan Eu só quero me desvincular desse banco, só dor de cabeça'"
      ]
     },
     "metadata": {},
     "output_type": "display_data"
    },
    {
     "data": {
      "text/plain": [
       "'@712YUNG @bancopan acontece o mesmo comigo! vou pagar essa fatura e cancelar a conta. esse pan tá mais pra uma piada. deixa a Jojo saber disso...'"
      ]
     },
     "metadata": {},
     "output_type": "display_data"
    },
    {
     "data": {
      "text/plain": [
       "'@nandomtts @spbancarios @s @santander_br @Bradesco @itau @bancosafra @BancodoBrasil @bancopan @BancoOriginal @FEBRABAN @Banrisul #PropostaDecenteOuGreve\\n\\n@itau @Bradesco @Santander_br @BancodoBrasil @Caixa @FEBRABAN\\n\\n😡 Fenaban!\\n🤬🤬\\n\\n@spbancarios\\n@ivonesilva\\n@mrosanihashizu1\\n@NeivaMrs\\n@fetecsp\\n@alinemolina1\\n@Contraf_CUT\\n@Juvandia\\n@CUT_Brasil\\n@CUTsaopaulo\\n@lcmarcolino\\n@Afubesp_\\n@camiloafubesp \\n@RitaBerlofa'"
      ]
     },
     "metadata": {},
     "output_type": "display_data"
    },
    {
     "data": {
      "text/plain": [
       "'@nandomtts @spbancarios @s @santander_br @Bradesco @itau @bancosafra @BancodoBrasil @bancopan @BancoOriginal @FEBRABAN @Banrisul #PropostaDecenteOuGreve\\n\\n@itau @Bradesco @Santander_br @BancodoBrasil @Caixa @FEBRABAN\\n\\n😡 Fenaban!\\n🤬🤬\\n\\n@spbancarios\\n@ivonesilva\\n@mrosanihashizu1\\n@NeivaMrs\\n@fetecsp\\n@alinemolina1\\n@Contraf_CUT\\n@Juvandia\\n@CUT_Brasil\\n@CUTsaopaulo\\n@lcmarcolino\\n@Afubesp_\\n@camiloafubesp \\n@RitaBerlofa'"
      ]
     },
     "metadata": {},
     "output_type": "display_data"
    },
    {
     "data": {
      "text/plain": [
       "'@bancopan e aí? suporte horrível. vou pagar essa fatura e cancelar a conta com vocês. segunda vez que acontece isso.'"
      ]
     },
     "metadata": {},
     "output_type": "display_data"
    },
    {
     "data": {
      "text/plain": [
       "'@bancopan Nada feito https://t.co/lRNZHMvVU8'"
      ]
     },
     "metadata": {},
     "output_type": "display_data"
    },
    {
     "data": {
      "text/plain": [
       "'@bancopan cadê essa disposição toda pra ajudar? o que fazer quando dá esse erro e nem deixa criar uma nova senha?'"
      ]
     },
     "metadata": {},
     "output_type": "display_data"
    },
    {
     "data": {
      "text/plain": [
       "'@bancopan mas a conta não entra! \"ops, tivemos um problema inesperado, tente novamente\". e com isso esqueci a senha, mas não dá pra resetar (dá o mesmo erro).'"
      ]
     },
     "metadata": {},
     "output_type": "display_data"
    },
    {
     "data": {
      "text/plain": [
       "'@JorgeWPena @bancopan Veja se não sujaram seu nome, amigo'"
      ]
     },
     "metadata": {},
     "output_type": "display_data"
    },
    {
     "data": {
      "text/plain": [
       "'Mais uma vez me ligam dizendo ser só @bancopan e que há um empréstimo pra cair na minha conta e que devo ligar para 0800 0002104. Semana passada fiz o tal cancelamento de consignado e descobri que não havia consignando algum no INSS. O banco tens e fazer algo contra'"
      ]
     },
     "metadata": {},
     "output_type": "display_data"
    },
    {
     "data": {
      "text/plain": [
       "'@bancopan A data está correta. Já reiniciei o celular, desinstalei e instalei de novo o app e o erro continua.'"
      ]
     },
     "metadata": {},
     "output_type": "display_data"
    },
    {
     "data": {
      "text/plain": [
       "'@bancopan E porque o site de vocês está fora do ar? E pelo telefone a opção 9 não é mais para falar com atendente? Estou preocupado.'"
      ]
     },
     "metadata": {},
     "output_type": "display_data"
    },
    {
     "data": {
      "text/plain": [
       "'@bancopan @bancopan não consigo acessar o app. Podem me ajudar, por favor?'"
      ]
     },
     "metadata": {},
     "output_type": "display_data"
    },
    {
     "data": {
      "text/plain": [
       "'Por engano, paguei R$ 140 a mais na fatura do cartão do @bancopan. Passou-se meses e ainda não me devolveram o valor, mesmo depois de entrar em contato. Atendimento muito ruim. Não recomendo a ninguém'"
      ]
     },
     "metadata": {},
     "output_type": "display_data"
    },
    {
     "data": {
      "text/plain": [
       "'@bancopan @bancopan preciso de suporte, falar com alguém. Isso é possível?'"
      ]
     },
     "metadata": {},
     "output_type": "display_data"
    },
    {
     "data": {
      "text/plain": [
       "'@bancopan Isso não acontece. Fico esperando e nada!'"
      ]
     },
     "metadata": {},
     "output_type": "display_data"
    },
    {
     "data": {
      "text/plain": [
       "'@bancopan Como faz para falar com um atendente? Estou horas tentando e nada! Só atendimento eletrônico e não resolve meu problema, difícil vocês,hein!'"
      ]
     },
     "metadata": {},
     "output_type": "display_data"
    },
    {
     "data": {
      "text/plain": [
       "'Alô @bancopan  o que está acontecendo com seu aplicativo 🤦🏻\\u200d♂️resolve isso aí'"
      ]
     },
     "metadata": {},
     "output_type": "display_data"
    },
    {
     "data": {
      "text/plain": [
       "'@Ricardo77460721 @bancopan Até eu preocupei agora....eu fiz contrato com o banco PAN'"
      ]
     },
     "metadata": {},
     "output_type": "display_data"
    },
    {
     "data": {
      "text/plain": [
       "'@CardozoMClaudia Tem um cartão, não vou dizer que é o @bancopan, que liga e manda mensagem avisando que a fatura vai vencer. É o inferno antes, durante e depois da dívida existir!'"
      ]
     },
     "metadata": {},
     "output_type": "display_data"
    },
    {
     "data": {
      "text/plain": [
       "'RT @bancopan: 😎🌞 Você recebeu um voucher de viagem e pode ir a qualquer lugar do mundo. Para onde iria? 😎🌞'"
      ]
     },
     "metadata": {},
     "output_type": "display_data"
    },
    {
     "data": {
      "text/plain": [
       "'RT @bancopan: Se sua vida financeira fosse um jogo, em qual fase você estaria? 🤔\\n1. Iniciou a 1ª fase - fez as compras do mês. ✅ \\n2. Enfren…'"
      ]
     },
     "metadata": {},
     "output_type": "display_data"
    },
    {
     "data": {
      "text/plain": [
       "'Meu limite não tá sendo suficiente é o @bancopan NAO FAZ NADA!!!!'"
      ]
     },
     "metadata": {},
     "output_type": "display_data"
    },
    {
     "data": {
      "text/plain": [
       "'@DiegoCorrets @bancopan Faça! Sério!'"
      ]
     },
     "metadata": {},
     "output_type": "display_data"
    },
    {
     "data": {
      "text/plain": [
       "'Desculpa @AlgarTelecom por ter reclamado do seu atendimento há alguns dias.\\nNada supera o péssimo atendimento do @bancopan !!'"
      ]
     },
     "metadata": {},
     "output_type": "display_data"
    },
    {
     "data": {
      "text/plain": [
       "'@bancopan Isso já estar pago e fica no sistema de vcs como atraso e depois na profayura vem os juros e aí eu tenho que ficar ligando pra vcs com esse atendimento horrível para poder resolver isso. Quando eu falo que esse banco é uma MERDA não é atoa https://t.co/Hba7NJrZvc'"
      ]
     },
     "metadata": {},
     "output_type": "display_data"
    },
    {
     "data": {
      "text/plain": [
       "'@anaacaeb @bancopan Vou fazer o mesmo.'"
      ]
     },
     "metadata": {},
     "output_type": "display_data"
    },
    {
     "data": {
      "text/plain": [
       "'@DiegoCorrets @bancopan Ou com o meu limite que foi rebaixado DO NADA. Ainda bem que já me livrei dessa porcaria de banco.'"
      ]
     },
     "metadata": {},
     "output_type": "display_data"
    },
    {
     "data": {
      "text/plain": [
       "'RT @nandomtts: Não aceitarmos desrespeito contra @s trabalhadorxs. \\n\\n#AgoraÉGreve\\n@santander_br @Bradesco  @itau @bancosafra  @BancodoBrasi…'"
      ]
     },
     "metadata": {},
     "output_type": "display_data"
    },
    {
     "data": {
      "text/plain": [
       "'@nandomtts @s @santander_br @Bradesco @itau @bancosafra @BancodoBrasil @bancopan @BancoOriginal @FEBRABAN @Banrisul ESTUDAR PARA ESCREVER CORRETAMENTE NÃO QUER. O \"TRABALHADORXS\" É A IGNORÂNCIA EM SUA ESSÊNCIA.\\n#AgoraÉgreve'"
      ]
     },
     "metadata": {},
     "output_type": "display_data"
    },
    {
     "data": {
      "text/plain": [
       "'@bancopan ACABARAM DE ABRIR UMA CONTA NESSE BANCO SEM TER SIDO EU, E PELO JEITO ACONTECEU COM OUTRAS PESSOAS!!!!'"
      ]
     },
     "metadata": {},
     "output_type": "display_data"
    },
    {
     "data": {
      "text/plain": [
       "'@bancopan O pagseguro está bloqueando saldo do trabalhador e cancelando as contas, falta de respeito. Arrependida de ter comprasdo essa maldita máquina. 3 meses tentando sacar 1.200 que eles estão segurando e não devolvem.'"
      ]
     },
     "metadata": {},
     "output_type": "display_data"
    },
    {
     "data": {
      "text/plain": [
       "'@bancopan Kkkk tentei fazer um empréstimo, pq sou beneficiário do bolsa família, cai em site fraudulento, tenho anti vírus no meu celular 📱, e tem outra tenho o app de vcs no meu celular, e através dele fui encaminhado pra um canal através de WhatsApp, deu ruim 👎'"
      ]
     },
     "metadata": {},
     "output_type": "display_data"
    },
    {
     "data": {
      "text/plain": [
       "'@bancopan Queria Mimi 🥺'"
      ]
     },
     "metadata": {},
     "output_type": "display_data"
    },
    {
     "data": {
      "text/plain": [
       "'RT @nandomtts: Não aceitarmos desrespeito contra @s trabalhadorxs. \\n\\n#AgoraÉGreve\\n@santander_br @Bradesco  @itau @bancosafra  @BancodoBrasi…'"
      ]
     },
     "metadata": {},
     "output_type": "display_data"
    },
    {
     "data": {
      "text/plain": [
       "'#queraiva do @bancopan sempre atrasando a vida … agora tô sem #dinheiro pq simplesmente ele não quer abrir e ninguém atende nesse banco https://t.co/5NPUyewQgb'"
      ]
     },
     "metadata": {},
     "output_type": "display_data"
    },
    {
     "data": {
      "text/plain": [
       "'Elogiei o @bancopan e ele está fazendo uma palhaçada comigo 🤡'"
      ]
     },
     "metadata": {},
     "output_type": "display_data"
    },
    {
     "data": {
      "text/plain": [
       "'Banco pan lixo! Abaixou minha fatura de 1200 pra 100 tmnc \\n@bancopan falta de noção em cara'"
      ]
     },
     "metadata": {},
     "output_type": "display_data"
    },
    {
     "data": {
      "text/plain": [
       "'@bancopan Israel\\nsonho com isso'"
      ]
     },
     "metadata": {},
     "output_type": "display_data"
    },
    {
     "data": {
      "text/plain": [
       "'RT @metatreze: #AgoraÉGreve @itau @santander_br @Bradesco @bancopan @BancoOriginal @Bancointer @BancodoBrasil @BancoOriginal @FEBRABAN http…'"
      ]
     },
     "metadata": {},
     "output_type": "display_data"
    },
    {
     "data": {
      "text/plain": [
       "'RT @nandomtts: Não aceitarmos desrespeito contra @s trabalhadorxs. \\n\\n#AgoraÉGreve\\n@santander_br @Bradesco  @itau @bancosafra  @BancodoBrasi…'"
      ]
     },
     "metadata": {},
     "output_type": "display_data"
    },
    {
     "data": {
      "text/plain": [
       "'@bancopan Quero entrar na minha conta, esqueci a senha, eu busco recurso no app é só aparece isso. Resolva. https://t.co/OZSycLec0a'"
      ]
     },
     "metadata": {},
     "output_type": "display_data"
    },
    {
     "data": {
      "text/plain": [
       "'RT @nandomtts: Não aceitarmos desrespeito contra @s trabalhadorxs. \\n\\n#AgoraÉGreve\\n@santander_br @Bradesco  @itau @bancosafra  @BancodoBrasi…'"
      ]
     },
     "metadata": {},
     "output_type": "display_data"
    },
    {
     "data": {
      "text/plain": [
       "'RT @nandomtts: Não aceitarmos desrespeito contra @s trabalhadorxs. \\n\\n#AgoraÉGreve\\n@santander_br @Bradesco  @itau @bancosafra  @BancodoBrasi…'"
      ]
     },
     "metadata": {},
     "output_type": "display_data"
    },
    {
     "data": {
      "text/plain": [
       "'@bancopan Egito, pois meu futuro marido mora lá'"
      ]
     },
     "metadata": {},
     "output_type": "display_data"
    },
    {
     "data": {
      "text/plain": [
       "'@nandomtts @spbancarios @s @santander_br @Bradesco @itau @bancosafra @BancodoBrasil @bancopan @BancoOriginal @FEBRABAN @Banrisul #grevedosbancarios2022 \\n#propostadecenteougreve #agoraégreve'"
      ]
     },
     "metadata": {},
     "output_type": "display_data"
    },
    {
     "data": {
      "text/plain": [
       "'@nandomtts @spbancarios @s @santander_br @Bradesco @itau @bancosafra @BancodoBrasil @bancopan @BancoOriginal @FEBRABAN @Banrisul #grevedosbancarios2022 \\n#propostadecenteougreve #agoraégreve'"
      ]
     },
     "metadata": {},
     "output_type": "display_data"
    },
    {
     "data": {
      "text/plain": [
       "'@nandomtts @s @santander_br @Bradesco @itau @bancosafra @BancodoBrasil @bancopan @BancoOriginal @FEBRABAN @Banrisul #AgoraÉGreve https://t.co/Ad6sKBfn7j'"
      ]
     },
     "metadata": {},
     "output_type": "display_data"
    },
    {
     "data": {
      "text/plain": [
       "'RT @nandomtts: Não aceitarmos desrespeito contra @s trabalhadorxs. \\n\\n#AgoraÉGreve\\n@santander_br @Bradesco  @itau @bancosafra  @BancodoBrasi…'"
      ]
     },
     "metadata": {},
     "output_type": "display_data"
    },
    {
     "data": {
      "text/plain": [
       "'@bancopan Dubai 😍'"
      ]
     },
     "metadata": {},
     "output_type": "display_data"
    },
    {
     "data": {
      "text/plain": [
       "'Liguei 4x na central do @bancopan e a ligação simplesmente cai quando alguém atende 🤡'"
      ]
     },
     "metadata": {},
     "output_type": "display_data"
    },
    {
     "data": {
      "text/plain": [
       "'@bancopan Suíça'"
      ]
     },
     "metadata": {},
     "output_type": "display_data"
    },
    {
     "data": {
      "text/plain": [
       "'RT @diogenes_fran: @metatreze @itau @santander_br @Bradesco @bancopan @BancoOriginal @Bancointer @BancodoBrasil @FEBRABAN #AgoraÉGreve!'"
      ]
     },
     "metadata": {},
     "output_type": "display_data"
    },
    {
     "data": {
      "text/plain": [
       "'RT @metatreze: #AgoraÉGreve @itau @santander_br @Bradesco @bancopan @BancoOriginal @Bancointer @BancodoBrasil @BancoOriginal @FEBRABAN http…'"
      ]
     },
     "metadata": {},
     "output_type": "display_data"
    },
    {
     "data": {
      "text/plain": [
       "'RT @bancopan: Se sua vida financeira fosse um jogo, em qual fase você estaria? 🤔\\n1. Iniciou a 1ª fase - fez as compras do mês. ✅ \\n2. Enfren…'"
      ]
     },
     "metadata": {},
     "output_type": "display_data"
    },
    {
     "data": {
      "text/plain": [
       "'RT @nandomtts: Não aceitarmos desrespeito contra @s trabalhadorxs. \\n\\n#AgoraÉGreve\\n@santander_br @Bradesco  @itau @bancosafra  @BancodoBrasi…'"
      ]
     },
     "metadata": {},
     "output_type": "display_data"
    },
    {
     "data": {
      "text/plain": [
       "'RT @nandomtts: Não aceitarmos desrespeito contra @s trabalhadorxs. \\n\\n#AgoraÉGreve\\n@santander_br @Bradesco  @itau @bancosafra  @BancodoBrasi…'"
      ]
     },
     "metadata": {},
     "output_type": "display_data"
    },
    {
     "data": {
      "text/plain": [
       "'RT @nandomtts: Não aceitarmos desrespeito contra @s trabalhadorxs. \\n\\n#AgoraÉGreve\\n@santander_br @Bradesco  @itau @bancosafra  @BancodoBrasi…'"
      ]
     },
     "metadata": {},
     "output_type": "display_data"
    },
    {
     "data": {
      "text/plain": [
       "'RT @nandomtts: Não aceitarmos desrespeito contra @s trabalhadorxs. \\n\\n#AgoraÉGreve\\n@santander_br @Bradesco  @itau @bancosafra  @BancodoBrasi…'"
      ]
     },
     "metadata": {},
     "output_type": "display_data"
    },
    {
     "data": {
      "text/plain": [
       "'@metatreze @itau @santander_br @Bradesco @bancopan @BancoOriginal @Bancointer @BancodoBrasil @FEBRABAN #AgoraÉGreve!'"
      ]
     },
     "metadata": {},
     "output_type": "display_data"
    },
    {
     "data": {
      "text/plain": [
       "'RT @bancopan: 😎🌞 Você recebeu um voucher de viagem e pode ir a qualquer lugar do mundo. Para onde iria? 😎🌞'"
      ]
     },
     "metadata": {},
     "output_type": "display_data"
    },
    {
     "data": {
      "text/plain": [
       "'RT @luzeniltoncreto: @nandomtts @s @santander_br @Bradesco @itau @bancosafra @BancodoBrasil @bancopan @BancoOriginal @FEBRABAN @Banrisul Ba…'"
      ]
     },
     "metadata": {},
     "output_type": "display_data"
    },
    {
     "data": {
      "text/plain": [
       "'#AgoraÉGreve @itau @santander_br @Bradesco @bancopan @BancoOriginal @Bancointer @BancodoBrasil @BancoOriginal @FEBRABAN https://t.co/2ePggJqGfe'"
      ]
     },
     "metadata": {},
     "output_type": "display_data"
    },
    {
     "data": {
      "text/plain": [
       "'@bancopan Japão conhecer a ilha de Okinawa'"
      ]
     },
     "metadata": {},
     "output_type": "display_data"
    },
    {
     "data": {
      "text/plain": [
       "'@SimoneTardim @spbancarios @Bradesco @itau @santander_br @BancodoBrasil @caixaeconomica @bancopan @Citibank @bancosafra Não vamos aceitar. Fenaban apresentou proposta final rebaixada e com perdas, @BancodoBrasil segue querendo diminuir as avaliações da GDP, em 1 semestre ninguém consegue recuperar! #AgoraÉGreve'"
      ]
     },
     "metadata": {},
     "output_type": "display_data"
    },
    {
     "data": {
      "text/plain": [
       "'@SimoneTardim @spbancarios @Bradesco @itau @caixaeconomica @santander_br @BancodoBrasil @Citi @Citibank @bancosafra @bancopan Não vamos aceitar. Fenaban apresentou proposta final rebaixada e com perdas, @BancodoBrasil segue querendo diminuir as avaliações da GDP, em 1 semestre ninguém consegue recuperar! #AgoraÉGreve'"
      ]
     },
     "metadata": {},
     "output_type": "display_data"
    },
    {
     "data": {
      "text/plain": [
       "'#AgoraÉGreve \\n@spbancarios \\n@Bradesco \\n@itau \\n@caixaeconomica \\n@santander_br \\n@BancodoBrasil \\n@Citi \\n@Citibank \\n@bancosafra \\n@bancopan https://t.co/vlZMp3Ciai'"
      ]
     },
     "metadata": {},
     "output_type": "display_data"
    },
    {
     "data": {
      "text/plain": [
       "'RT @nandomtts: Não aceitarmos desrespeito contra @s trabalhadorxs. \\n\\n#AgoraÉGreve\\n@santander_br @Bradesco  @itau @bancosafra  @BancodoBrasi…'"
      ]
     },
     "metadata": {},
     "output_type": "display_data"
    },
    {
     "data": {
      "text/plain": [
       "'#AgoraÉGreve\\n@spbancarios \\n@Bradesco \\n@itau \\n@santander_br \\n@BancodoBrasil \\n@caixaeconomica \\n@bancopan \\n@Citibank \\n@bancosafra https://t.co/aGoRPS13TP'"
      ]
     },
     "metadata": {},
     "output_type": "display_data"
    },
    {
     "data": {
      "text/plain": [
       "'@nandomtts @s @santander_br @Bradesco @itau @bancosafra @BancodoBrasil @bancopan @BancoOriginal @FEBRABAN @Banrisul Fenaban apresentou proposta final rebaixada e com perdas, @BancodoBrasil segue querendo diminuir as avaliações da GDP, em 1 semestre ninguém consegue recuperar! #AgoraÉGreve . Não vamos aceitar!'"
      ]
     },
     "metadata": {},
     "output_type": "display_data"
    },
    {
     "data": {
      "text/plain": [
       "'@nandomtts @s @santander_br @Bradesco @itau @bancosafra @BancodoBrasil @bancopan @BancoOriginal @FEBRABAN @Banrisul Fenaban apresentou proposta final rebaixada e com perdas, @BancodoBrasil segue querendo diminuir as avaliações da GDP, em 1 semestre ninguém consegue recuperar! #AgoraÉGreve . Não vamos aceitar!'"
      ]
     },
     "metadata": {},
     "output_type": "display_data"
    },
    {
     "data": {
      "text/plain": [
       "'RT @nandomtts: Não aceitarmos desrespeito contra @s trabalhadorxs. \\n\\n#AgoraÉGreve\\n@santander_br @Bradesco  @itau @bancosafra  @BancodoBrasi…'"
      ]
     },
     "metadata": {},
     "output_type": "display_data"
    },
    {
     "data": {
      "text/plain": [
       "'@nandomtts @s @santander_br @Bradesco @itau @bancosafra @BancodoBrasil @bancopan @BancoOriginal @FEBRABAN @Banrisul Bancos querem greve! Fenaban apresentou proposta final com perdas já recusada pela categoria e agora querem impor mais perdas em 2023. Comando está reunido neste momento para organizar e mobilizar o movimento para a luta. #AgoraÉGreve!'"
      ]
     },
     "metadata": {},
     "output_type": "display_data"
    },
    {
     "data": {
      "text/plain": [
       "'Não aceitarmos desrespeito contra @s trabalhadorxs. \\n\\n#AgoraÉGreve\\n@santander_br @Bradesco  @itau @bancosafra  @BancodoBrasil  @bancopan @BancoOriginal @FEBRABAN @Banrisul https://t.co/3sBrIP5LRA'"
      ]
     },
     "metadata": {},
     "output_type": "display_data"
    },
    {
     "data": {
      "text/plain": [
       "'Não aceitarmos desrespeito contra @s trabalhadorxs. \\n\\n#AgoraÉGreve\\n@santander_br @Bradesco  @itau @bancosafra  @BancodoBrasil  @bancopan @BancoOriginal @FEBRABAN @Banrisul https://t.co/sd3PgI66ux'"
      ]
     },
     "metadata": {},
     "output_type": "display_data"
    },
    {
     "data": {
      "text/plain": [
       "'RT @nandomtts: Não aceitarmos desrespeito contra @s trabalhadorxs. \\n\\n#AgoraÉGreve\\n@santander_br @Bradesco  @itau @bancosafra  @BancodoBrasi…'"
      ]
     },
     "metadata": {},
     "output_type": "display_data"
    },
    {
     "data": {
      "text/plain": [
       "'Não aceitarmos desrespeito contra @s trabalhadorxs. \\n\\n#AgoraÉGreve\\n@santander_br @Bradesco  @itau @bancosafra  @BancodoBrasil  @bancopan @BancoOriginal @FEBRABAN @Banrisul https://t.co/IqQeeqtIq2'"
      ]
     },
     "metadata": {},
     "output_type": "display_data"
    },
    {
     "data": {
      "text/plain": [
       "'Não aceitarmos desrespeito contra @s trabalhadorxs. \\n\\n#AgoraÉGreve\\n@santander_br @Bradesco  @itau @bancosafra  @BancodoBrasil  @bancopan @BancoOriginal @FEBRABAN @Banrisul https://t.co/aJtIvYS3n6'"
      ]
     },
     "metadata": {},
     "output_type": "display_data"
    },
    {
     "data": {
      "text/plain": [
       "'Não aceitarmos desrespeito contra @s trabalhadorxs. \\n\\n#AgoraÉGreve\\n@santander_br @Bradesco  @itau @bancosafra  @BancodoBrasil  @bancopan @BancoOriginal @FEBRABAN @Banrisul https://t.co/4J8T67Sj27'"
      ]
     },
     "metadata": {},
     "output_type": "display_data"
    },
    {
     "data": {
      "text/plain": [
       "'Não aceitarmos desrespeito contra @s trabalhadorxs. \\n\\n#AgoraÉGreve\\n@santander_br @Bradesco  @itau @bancosafra  @BancodoBrasil  @bancopan @BancoOriginal @FEBRABAN @Banrisul https://t.co/RFvsPlBrk8'"
      ]
     },
     "metadata": {},
     "output_type": "display_data"
    },
    {
     "data": {
      "text/plain": [
       "'Não aceitarmos desrespeito contra @s trabalhadorxs. \\n\\n#AgoraÉGreve\\n@santander_br @Bradesco  @itau @bancosafra  @BancodoBrasil  @bancopan @BancoOriginal @FEBRABAN @Banrisul https://t.co/EF8VScyaiV'"
      ]
     },
     "metadata": {},
     "output_type": "display_data"
    },
    {
     "data": {
      "text/plain": [
       "'@bancopan Em vez de fazer jogos, vocês deveriam resolver o meu problema. Com o pagamento da minha fatura do cartão, que não foi registrado.'"
      ]
     },
     "metadata": {},
     "output_type": "display_data"
    },
    {
     "data": {
      "text/plain": [
       "'@bancopan Nao sei o que DM….\\nO fato é que continuam ligando  no celular!\\nO que preciso fazer para deixar de ser importunado?'"
      ]
     },
     "metadata": {},
     "output_type": "display_data"
    },
    {
     "data": {
      "text/plain": [
       "'@bancopan GOSTARIA DE SABER COMO VOU PAGAR O BOLETO GERADO PELO SISTEMA!! AI SÓ EM 5 DIAS UTEIS PARA CONSEGUI NOVA IMPRESSÃO!!! ESTÃO DE PARABÉNS ASSIM ESTA FACIL GANHAR COM OS JUROS GERADOS!!\\n#BANCOPANLIXO https://t.co/5ad7nju5jI'"
      ]
     },
     "metadata": {},
     "output_type": "display_data"
    },
    {
     "data": {
      "text/plain": [
       "'@bancopan vcs só me iludem, passam dias oferecendo empréstimo, dava erro toda vezes que tentava concluir pelo app e agora some a \" oferta \"'"
      ]
     },
     "metadata": {},
     "output_type": "display_data"
    },
    {
     "data": {
      "text/plain": [
       "'@bancopan Italia'"
      ]
     },
     "metadata": {},
     "output_type": "display_data"
    },
    {
     "data": {
      "text/plain": [
       "'@bancopan Kakakak eu venderia pra pagar as contas.🤣🤣🤣'"
      ]
     },
     "metadata": {},
     "output_type": "display_data"
    },
    {
     "data": {
      "text/plain": [
       "'@bancopan Inglaterra.'"
      ]
     },
     "metadata": {},
     "output_type": "display_data"
    },
    {
     "data": {
      "text/plain": [
       "'A dificuldade pra falar com atendente do @bancopan pra contestar uma compra no cartão é surreal. Não indico a ninguém.'"
      ]
     },
     "metadata": {},
     "output_type": "display_data"
    },
    {
     "data": {
      "text/plain": [
       "'@bancopan @bancopan roubaram a porra do meu dinheiro!!'"
      ]
     },
     "metadata": {},
     "output_type": "display_data"
    },
    {
     "data": {
      "text/plain": [
       "'@bancopan decidiram não aceitar a mesma senha que eu usava pra entrar no app dizendo que a senha está errada, sendo que nunca mudei. coloco p mudar a senha e falam q vão mandar codigo no email e estou a 2hrs esperando a porra do codigo\\nsimplesmente me ROUBARAM filhos da puta'"
      ]
     },
     "metadata": {},
     "output_type": "display_data"
    },
    {
     "data": {
      "text/plain": [
       "'@bancopan eu quero q vcs vão pra casa do caralho\\nabri essa porra dessa conta pq tinham me mandado uma PROPOSTA de cartao de credito, quando abri não tinha porra de crédito nenhum\\nai quando decido usar essa merda e transfiro algum dinheiro, decidem não aceitar mais a senha'"
      ]
     },
     "metadata": {},
     "output_type": "display_data"
    },
    {
     "data": {
      "text/plain": [
       "'Tô muito puto com o @bancopan'"
      ]
     },
     "metadata": {},
     "output_type": "display_data"
    },
    {
     "data": {
      "text/plain": [
       "'@bancopan  assim é fácil ganhar juros !!! deixa o sistema fora do ar para ao chamar o chat pagar 3 dias após a data escolhida !!!\\n#bancopanlixo'"
      ]
     },
     "metadata": {},
     "output_type": "display_data"
    },
    {
     "data": {
      "text/plain": [
       "'Alguém sabe algum contato do @bancopan  que atenda ?\\nFizeram um cartão consignado pra minha tia de 60 anos e tão descontando do benefício dela 🙄'"
      ]
     },
     "metadata": {},
     "output_type": "display_data"
    },
    {
     "data": {
      "text/plain": [
       "'Há dias eu estou tentando entrar em contato com algum atendente do Banco Pan e simplesmente não consigo. Ai você apela para as redes sociais e eles fazem você engolir uma conversinha de que alguém vai entrar em contato com você, e ninguém nunca entra. Fujam do @bancopan'"
      ]
     },
     "metadata": {},
     "output_type": "display_data"
    },
    {
     "data": {
      "text/plain": [
       "'Eu com a camisa do @bancopan no busão (que ganhei do @domingao ) o povo perguntando onde ficava a agência \\n\\nQuero meu dinheiro do publi 🗣🗣🗣'"
      ]
     },
     "metadata": {},
     "output_type": "display_data"
    }
   ],
   "source": [
    "#insere no banco os tweets e em outra coluna se é um re-tweet (RT)\n",
    "cont = 0\n",
    "for i in dados:\n",
    "    texto = i.text\n",
    "    display(texto)\n",
    "    if (texto[:2] == 'RT'):\n",
    "        RT = 'S'\n",
    "    else:\n",
    "        RT = 'N'\n",
    "    \n",
    "    cur.execute(\"INSERT INTO registros (num,texto,RT) VALUES (?,?,?)\",(cont,texto,RT))\n",
    "    cont = cont + 1\n",
    "con.commit() "
   ]
  },
  {
   "cell_type": "code",
   "execution_count": 51,
   "metadata": {},
   "outputs": [
    {
     "name": "stdout",
     "output_type": "stream",
     "text": [
      "[(0, '@bancopan Banco pan quero mimo 🥺', 'N'), (1, '@bancopan Não 😨😱😰', 'N'), (2, '@bancopan @bancopan porque o aplicativo de vocês nunca funciona? E por que seus lindos atendentes me ligam de 30 em 30 segundos quando o que quero solicitar é bem simples ( funcionaria através de um único email).', 'N'), (3, '@c_lanzotti @bancopan Eu só quero me desvincular desse banco, só dor de cabeça', 'N'), (4, '@712YUNG @bancopan acontece o mesmo comigo! vou pagar essa fatura e cancelar a conta. esse pan tá mais pra uma piada. deixa a Jojo saber disso...', 'N'), (5, '@nandomtts @spbancarios @s @santander_br @Bradesco @itau @bancosafra @BancodoBrasil @bancopan @BancoOriginal @FEBRABAN @Banrisul #PropostaDecenteOuGreve\\n\\n@itau @Bradesco @Santander_br @BancodoBrasil @Caixa @FEBRABAN\\n\\n😡 Fenaban!\\n🤬🤬\\n\\n@spbancarios\\n@ivonesilva\\n@mrosanihashizu1\\n@NeivaMrs\\n@fetecsp\\n@alinemolina1\\n@Contraf_CUT\\n@Juvandia\\n@CUT_Brasil\\n@CUTsaopaulo\\n@lcmarcolino\\n@Afubesp_\\n@camiloafubesp \\n@RitaBerlofa', 'N'), (6, '@nandomtts @spbancarios @s @santander_br @Bradesco @itau @bancosafra @BancodoBrasil @bancopan @BancoOriginal @FEBRABAN @Banrisul #PropostaDecenteOuGreve\\n\\n@itau @Bradesco @Santander_br @BancodoBrasil @Caixa @FEBRABAN\\n\\n😡 Fenaban!\\n🤬🤬\\n\\n@spbancarios\\n@ivonesilva\\n@mrosanihashizu1\\n@NeivaMrs\\n@fetecsp\\n@alinemolina1\\n@Contraf_CUT\\n@Juvandia\\n@CUT_Brasil\\n@CUTsaopaulo\\n@lcmarcolino\\n@Afubesp_\\n@camiloafubesp \\n@RitaBerlofa', 'N'), (7, '@bancopan e aí? suporte horrível. vou pagar essa fatura e cancelar a conta com vocês. segunda vez que acontece isso.', 'N'), (8, '@bancopan Nada feito https://t.co/lRNZHMvVU8', 'N'), (9, '@bancopan cadê essa disposição toda pra ajudar? o que fazer quando dá esse erro e nem deixa criar uma nova senha?', 'N'), (10, '@bancopan mas a conta não entra! \"ops, tivemos um problema inesperado, tente novamente\". e com isso esqueci a senha, mas não dá pra resetar (dá o mesmo erro).', 'N'), (11, '@JorgeWPena @bancopan Veja se não sujaram seu nome, amigo', 'N'), (12, 'Mais uma vez me ligam dizendo ser só @bancopan e que há um empréstimo pra cair na minha conta e que devo ligar para 0800 0002104. Semana passada fiz o tal cancelamento de consignado e descobri que não havia consignando algum no INSS. O banco tens e fazer algo contra', 'N'), (13, '@bancopan A data está correta. Já reiniciei o celular, desinstalei e instalei de novo o app e o erro continua.', 'N'), (14, '@bancopan E porque o site de vocês está fora do ar? E pelo telefone a opção 9 não é mais para falar com atendente? Estou preocupado.', 'N'), (15, '@bancopan @bancopan não consigo acessar o app. Podem me ajudar, por favor?', 'N'), (16, 'Por engano, paguei R$ 140 a mais na fatura do cartão do @bancopan. Passou-se meses e ainda não me devolveram o valor, mesmo depois de entrar em contato. Atendimento muito ruim. Não recomendo a ninguém', 'N'), (17, '@bancopan @bancopan preciso de suporte, falar com alguém. Isso é possível?', 'N'), (18, '@bancopan Isso não acontece. Fico esperando e nada!', 'N'), (19, '@bancopan Como faz para falar com um atendente? Estou horas tentando e nada! Só atendimento eletrônico e não resolve meu problema, difícil vocês,hein!', 'N'), (20, 'Alô @bancopan  o que está acontecendo com seu aplicativo 🤦🏻\\u200d♂️resolve isso aí', 'N'), (21, '@Ricardo77460721 @bancopan Até eu preocupei agora....eu fiz contrato com o banco PAN', 'N'), (22, '@CardozoMClaudia Tem um cartão, não vou dizer que é o @bancopan, que liga e manda mensagem avisando que a fatura vai vencer. É o inferno antes, durante e depois da dívida existir!', 'N'), (23, 'RT @bancopan: 😎🌞 Você recebeu um voucher de viagem e pode ir a qualquer lugar do mundo. Para onde iria? 😎🌞', 'S'), (24, 'RT @bancopan: Se sua vida financeira fosse um jogo, em qual fase você estaria? 🤔\\n1. Iniciou a 1ª fase - fez as compras do mês. ✅ \\n2. Enfren…', 'S'), (25, 'Meu limite não tá sendo suficiente é o @bancopan NAO FAZ NADA!!!!', 'N'), (26, '@DiegoCorrets @bancopan Faça! Sério!', 'N'), (27, 'Desculpa @AlgarTelecom por ter reclamado do seu atendimento há alguns dias.\\nNada supera o péssimo atendimento do @bancopan !!', 'N'), (28, '@bancopan Isso já estar pago e fica no sistema de vcs como atraso e depois na profayura vem os juros e aí eu tenho que ficar ligando pra vcs com esse atendimento horrível para poder resolver isso. Quando eu falo que esse banco é uma MERDA não é atoa https://t.co/Hba7NJrZvc', 'N'), (29, '@anaacaeb @bancopan Vou fazer o mesmo.', 'N'), (30, '@DiegoCorrets @bancopan Ou com o meu limite que foi rebaixado DO NADA. Ainda bem que já me livrei dessa porcaria de banco.', 'N'), (31, 'RT @nandomtts: Não aceitarmos desrespeito contra @s trabalhadorxs. \\n\\n#AgoraÉGreve\\n@santander_br @Bradesco  @itau @bancosafra  @BancodoBrasi…', 'S'), (32, '@nandomtts @s @santander_br @Bradesco @itau @bancosafra @BancodoBrasil @bancopan @BancoOriginal @FEBRABAN @Banrisul ESTUDAR PARA ESCREVER CORRETAMENTE NÃO QUER. O \"TRABALHADORXS\" É A IGNORÂNCIA EM SUA ESSÊNCIA.\\n#AgoraÉgreve', 'N'), (33, '@bancopan ACABARAM DE ABRIR UMA CONTA NESSE BANCO SEM TER SIDO EU, E PELO JEITO ACONTECEU COM OUTRAS PESSOAS!!!!', 'N'), (34, '@bancopan O pagseguro está bloqueando saldo do trabalhador e cancelando as contas, falta de respeito. Arrependida de ter comprasdo essa maldita máquina. 3 meses tentando sacar 1.200 que eles estão segurando e não devolvem.', 'N'), (35, '@bancopan Kkkk tentei fazer um empréstimo, pq sou beneficiário do bolsa família, cai em site fraudulento, tenho anti vírus no meu celular 📱, e tem outra tenho o app de vcs no meu celular, e através dele fui encaminhado pra um canal através de WhatsApp, deu ruim 👎', 'N'), (36, '@bancopan Queria Mimi 🥺', 'N'), (37, 'RT @nandomtts: Não aceitarmos desrespeito contra @s trabalhadorxs. \\n\\n#AgoraÉGreve\\n@santander_br @Bradesco  @itau @bancosafra  @BancodoBrasi…', 'S'), (38, '#queraiva do @bancopan sempre atrasando a vida … agora tô sem #dinheiro pq simplesmente ele não quer abrir e ninguém atende nesse banco https://t.co/5NPUyewQgb', 'N'), (39, 'Elogiei o @bancopan e ele está fazendo uma palhaçada comigo 🤡', 'N'), (40, 'Banco pan lixo! Abaixou minha fatura de 1200 pra 100 tmnc \\n@bancopan falta de noção em cara', 'N'), (41, '@bancopan Israel\\nsonho com isso', 'N'), (42, 'RT @metatreze: #AgoraÉGreve @itau @santander_br @Bradesco @bancopan @BancoOriginal @Bancointer @BancodoBrasil @BancoOriginal @FEBRABAN http…', 'S'), (43, 'RT @nandomtts: Não aceitarmos desrespeito contra @s trabalhadorxs. \\n\\n#AgoraÉGreve\\n@santander_br @Bradesco  @itau @bancosafra  @BancodoBrasi…', 'S'), (44, '@bancopan Quero entrar na minha conta, esqueci a senha, eu busco recurso no app é só aparece isso. Resolva. https://t.co/OZSycLec0a', 'N'), (45, 'RT @nandomtts: Não aceitarmos desrespeito contra @s trabalhadorxs. \\n\\n#AgoraÉGreve\\n@santander_br @Bradesco  @itau @bancosafra  @BancodoBrasi…', 'S'), (46, 'RT @nandomtts: Não aceitarmos desrespeito contra @s trabalhadorxs. \\n\\n#AgoraÉGreve\\n@santander_br @Bradesco  @itau @bancosafra  @BancodoBrasi…', 'S'), (47, '@bancopan Egito, pois meu futuro marido mora lá', 'N'), (48, '@nandomtts @spbancarios @s @santander_br @Bradesco @itau @bancosafra @BancodoBrasil @bancopan @BancoOriginal @FEBRABAN @Banrisul #grevedosbancarios2022 \\n#propostadecenteougreve #agoraégreve', 'N'), (49, '@nandomtts @spbancarios @s @santander_br @Bradesco @itau @bancosafra @BancodoBrasil @bancopan @BancoOriginal @FEBRABAN @Banrisul #grevedosbancarios2022 \\n#propostadecenteougreve #agoraégreve', 'N'), (50, '@nandomtts @s @santander_br @Bradesco @itau @bancosafra @BancodoBrasil @bancopan @BancoOriginal @FEBRABAN @Banrisul #AgoraÉGreve https://t.co/Ad6sKBfn7j', 'N'), (51, 'RT @nandomtts: Não aceitarmos desrespeito contra @s trabalhadorxs. \\n\\n#AgoraÉGreve\\n@santander_br @Bradesco  @itau @bancosafra  @BancodoBrasi…', 'S'), (52, '@bancopan Dubai 😍', 'N'), (53, 'Liguei 4x na central do @bancopan e a ligação simplesmente cai quando alguém atende 🤡', 'N'), (54, '@bancopan Suíça', 'N'), (55, 'RT @diogenes_fran: @metatreze @itau @santander_br @Bradesco @bancopan @BancoOriginal @Bancointer @BancodoBrasil @FEBRABAN #AgoraÉGreve!', 'S'), (56, 'RT @metatreze: #AgoraÉGreve @itau @santander_br @Bradesco @bancopan @BancoOriginal @Bancointer @BancodoBrasil @BancoOriginal @FEBRABAN http…', 'S'), (57, 'RT @bancopan: Se sua vida financeira fosse um jogo, em qual fase você estaria? 🤔\\n1. Iniciou a 1ª fase - fez as compras do mês. ✅ \\n2. Enfren…', 'S'), (58, 'RT @nandomtts: Não aceitarmos desrespeito contra @s trabalhadorxs. \\n\\n#AgoraÉGreve\\n@santander_br @Bradesco  @itau @bancosafra  @BancodoBrasi…', 'S'), (59, 'RT @nandomtts: Não aceitarmos desrespeito contra @s trabalhadorxs. \\n\\n#AgoraÉGreve\\n@santander_br @Bradesco  @itau @bancosafra  @BancodoBrasi…', 'S'), (60, 'RT @nandomtts: Não aceitarmos desrespeito contra @s trabalhadorxs. \\n\\n#AgoraÉGreve\\n@santander_br @Bradesco  @itau @bancosafra  @BancodoBrasi…', 'S'), (61, 'RT @nandomtts: Não aceitarmos desrespeito contra @s trabalhadorxs. \\n\\n#AgoraÉGreve\\n@santander_br @Bradesco  @itau @bancosafra  @BancodoBrasi…', 'S'), (62, '@metatreze @itau @santander_br @Bradesco @bancopan @BancoOriginal @Bancointer @BancodoBrasil @FEBRABAN #AgoraÉGreve!', 'N'), (63, 'RT @bancopan: 😎🌞 Você recebeu um voucher de viagem e pode ir a qualquer lugar do mundo. Para onde iria? 😎🌞', 'S'), (64, 'RT @luzeniltoncreto: @nandomtts @s @santander_br @Bradesco @itau @bancosafra @BancodoBrasil @bancopan @BancoOriginal @FEBRABAN @Banrisul Ba…', 'S'), (65, '#AgoraÉGreve @itau @santander_br @Bradesco @bancopan @BancoOriginal @Bancointer @BancodoBrasil @BancoOriginal @FEBRABAN https://t.co/2ePggJqGfe', 'N'), (66, '@bancopan Japão conhecer a ilha de Okinawa', 'N'), (67, '@SimoneTardim @spbancarios @Bradesco @itau @santander_br @BancodoBrasil @caixaeconomica @bancopan @Citibank @bancosafra Não vamos aceitar. Fenaban apresentou proposta final rebaixada e com perdas, @BancodoBrasil segue querendo diminuir as avaliações da GDP, em 1 semestre ninguém consegue recuperar! #AgoraÉGreve', 'N'), (68, '@SimoneTardim @spbancarios @Bradesco @itau @caixaeconomica @santander_br @BancodoBrasil @Citi @Citibank @bancosafra @bancopan Não vamos aceitar. Fenaban apresentou proposta final rebaixada e com perdas, @BancodoBrasil segue querendo diminuir as avaliações da GDP, em 1 semestre ninguém consegue recuperar! #AgoraÉGreve', 'N'), (69, '#AgoraÉGreve \\n@spbancarios \\n@Bradesco \\n@itau \\n@caixaeconomica \\n@santander_br \\n@BancodoBrasil \\n@Citi \\n@Citibank \\n@bancosafra \\n@bancopan https://t.co/vlZMp3Ciai', 'N'), (70, 'RT @nandomtts: Não aceitarmos desrespeito contra @s trabalhadorxs. \\n\\n#AgoraÉGreve\\n@santander_br @Bradesco  @itau @bancosafra  @BancodoBrasi…', 'S'), (71, '#AgoraÉGreve\\n@spbancarios \\n@Bradesco \\n@itau \\n@santander_br \\n@BancodoBrasil \\n@caixaeconomica \\n@bancopan \\n@Citibank \\n@bancosafra https://t.co/aGoRPS13TP', 'N'), (72, '@nandomtts @s @santander_br @Bradesco @itau @bancosafra @BancodoBrasil @bancopan @BancoOriginal @FEBRABAN @Banrisul Fenaban apresentou proposta final rebaixada e com perdas, @BancodoBrasil segue querendo diminuir as avaliações da GDP, em 1 semestre ninguém consegue recuperar! #AgoraÉGreve . Não vamos aceitar!', 'N'), (73, '@nandomtts @s @santander_br @Bradesco @itau @bancosafra @BancodoBrasil @bancopan @BancoOriginal @FEBRABAN @Banrisul Fenaban apresentou proposta final rebaixada e com perdas, @BancodoBrasil segue querendo diminuir as avaliações da GDP, em 1 semestre ninguém consegue recuperar! #AgoraÉGreve . Não vamos aceitar!', 'N'), (74, 'RT @nandomtts: Não aceitarmos desrespeito contra @s trabalhadorxs. \\n\\n#AgoraÉGreve\\n@santander_br @Bradesco  @itau @bancosafra  @BancodoBrasi…', 'S'), (75, '@nandomtts @s @santander_br @Bradesco @itau @bancosafra @BancodoBrasil @bancopan @BancoOriginal @FEBRABAN @Banrisul Bancos querem greve! Fenaban apresentou proposta final com perdas já recusada pela categoria e agora querem impor mais perdas em 2023. Comando está reunido neste momento para organizar e mobilizar o movimento para a luta. #AgoraÉGreve!', 'N'), (76, 'Não aceitarmos desrespeito contra @s trabalhadorxs. \\n\\n#AgoraÉGreve\\n@santander_br @Bradesco  @itau @bancosafra  @BancodoBrasil  @bancopan @BancoOriginal @FEBRABAN @Banrisul https://t.co/3sBrIP5LRA', 'N'), (77, 'Não aceitarmos desrespeito contra @s trabalhadorxs. \\n\\n#AgoraÉGreve\\n@santander_br @Bradesco  @itau @bancosafra  @BancodoBrasil  @bancopan @BancoOriginal @FEBRABAN @Banrisul https://t.co/sd3PgI66ux', 'N'), (78, 'RT @nandomtts: Não aceitarmos desrespeito contra @s trabalhadorxs. \\n\\n#AgoraÉGreve\\n@santander_br @Bradesco  @itau @bancosafra  @BancodoBrasi…', 'S'), (79, 'Não aceitarmos desrespeito contra @s trabalhadorxs. \\n\\n#AgoraÉGreve\\n@santander_br @Bradesco  @itau @bancosafra  @BancodoBrasil  @bancopan @BancoOriginal @FEBRABAN @Banrisul https://t.co/IqQeeqtIq2', 'N'), (80, 'Não aceitarmos desrespeito contra @s trabalhadorxs. \\n\\n#AgoraÉGreve\\n@santander_br @Bradesco  @itau @bancosafra  @BancodoBrasil  @bancopan @BancoOriginal @FEBRABAN @Banrisul https://t.co/aJtIvYS3n6', 'N'), (81, 'Não aceitarmos desrespeito contra @s trabalhadorxs. \\n\\n#AgoraÉGreve\\n@santander_br @Bradesco  @itau @bancosafra  @BancodoBrasil  @bancopan @BancoOriginal @FEBRABAN @Banrisul https://t.co/4J8T67Sj27', 'N'), (82, 'Não aceitarmos desrespeito contra @s trabalhadorxs. \\n\\n#AgoraÉGreve\\n@santander_br @Bradesco  @itau @bancosafra  @BancodoBrasil  @bancopan @BancoOriginal @FEBRABAN @Banrisul https://t.co/RFvsPlBrk8', 'N'), (83, 'Não aceitarmos desrespeito contra @s trabalhadorxs. \\n\\n#AgoraÉGreve\\n@santander_br @Bradesco  @itau @bancosafra  @BancodoBrasil  @bancopan @BancoOriginal @FEBRABAN @Banrisul https://t.co/EF8VScyaiV', 'N'), (84, '@bancopan Em vez de fazer jogos, vocês deveriam resolver o meu problema. Com o pagamento da minha fatura do cartão, que não foi registrado.', 'N'), (85, '@bancopan Nao sei o que DM….\\nO fato é que continuam ligando  no celular!\\nO que preciso fazer para deixar de ser importunado?', 'N'), (86, '@bancopan GOSTARIA DE SABER COMO VOU PAGAR O BOLETO GERADO PELO SISTEMA!! AI SÓ EM 5 DIAS UTEIS PARA CONSEGUI NOVA IMPRESSÃO!!! ESTÃO DE PARABÉNS ASSIM ESTA FACIL GANHAR COM OS JUROS GERADOS!!\\n#BANCOPANLIXO https://t.co/5ad7nju5jI', 'N'), (87, '@bancopan vcs só me iludem, passam dias oferecendo empréstimo, dava erro toda vezes que tentava concluir pelo app e agora some a \" oferta \"', 'N'), (88, '@bancopan Italia', 'N'), (89, '@bancopan Kakakak eu venderia pra pagar as contas.🤣🤣🤣', 'N'), (90, '@bancopan Inglaterra.', 'N'), (91, 'A dificuldade pra falar com atendente do @bancopan pra contestar uma compra no cartão é surreal. Não indico a ninguém.', 'N'), (92, '@bancopan @bancopan roubaram a porra do meu dinheiro!!', 'N'), (93, '@bancopan decidiram não aceitar a mesma senha que eu usava pra entrar no app dizendo que a senha está errada, sendo que nunca mudei. coloco p mudar a senha e falam q vão mandar codigo no email e estou a 2hrs esperando a porra do codigo\\nsimplesmente me ROUBARAM filhos da puta', 'N'), (94, '@bancopan eu quero q vcs vão pra casa do caralho\\nabri essa porra dessa conta pq tinham me mandado uma PROPOSTA de cartao de credito, quando abri não tinha porra de crédito nenhum\\nai quando decido usar essa merda e transfiro algum dinheiro, decidem não aceitar mais a senha', 'N'), (95, 'Tô muito puto com o @bancopan', 'N'), (96, '@bancopan  assim é fácil ganhar juros !!! deixa o sistema fora do ar para ao chamar o chat pagar 3 dias após a data escolhida !!!\\n#bancopanlixo', 'N'), (97, 'Alguém sabe algum contato do @bancopan  que atenda ?\\nFizeram um cartão consignado pra minha tia de 60 anos e tão descontando do benefício dela 🙄', 'N'), (98, 'Há dias eu estou tentando entrar em contato com algum atendente do Banco Pan e simplesmente não consigo. Ai você apela para as redes sociais e eles fazem você engolir uma conversinha de que alguém vai entrar em contato com você, e ninguém nunca entra. Fujam do @bancopan', 'N'), (99, 'Eu com a camisa do @bancopan no busão (que ganhei do @domingao ) o povo perguntando onde ficava a agência \\n\\nQuero meu dinheiro do publi 🗣🗣🗣', 'N')]\n"
     ]
    }
   ],
   "source": [
    "#Faz a consulta no banco de dados, pegando todos os registros\n",
    "cur = con.cursor()\n",
    "cur.execute('SELECT * FROM registros')\n",
    "resultados = cur.fetchall()\n",
    "print(resultados)"
   ]
  },
  {
   "cell_type": "code",
   "execution_count": 52,
   "metadata": {},
   "outputs": [
    {
     "data": {
      "text/html": [
       "<div>\n",
       "<style scoped>\n",
       "    .dataframe tbody tr th:only-of-type {\n",
       "        vertical-align: middle;\n",
       "    }\n",
       "\n",
       "    .dataframe tbody tr th {\n",
       "        vertical-align: top;\n",
       "    }\n",
       "\n",
       "    .dataframe thead th {\n",
       "        text-align: right;\n",
       "    }\n",
       "</style>\n",
       "<table border=\"1\" class=\"dataframe\">\n",
       "  <thead>\n",
       "    <tr style=\"text-align: right;\">\n",
       "      <th></th>\n",
       "      <th>id</th>\n",
       "      <th>texto</th>\n",
       "      <th>Re_tweet</th>\n",
       "    </tr>\n",
       "  </thead>\n",
       "  <tbody>\n",
       "    <tr>\n",
       "      <th>0</th>\n",
       "      <td>0</td>\n",
       "      <td>@bancopan Banco pan quero mimo 🥺</td>\n",
       "      <td>N</td>\n",
       "    </tr>\n",
       "    <tr>\n",
       "      <th>1</th>\n",
       "      <td>1</td>\n",
       "      <td>@bancopan Não 😨😱😰</td>\n",
       "      <td>N</td>\n",
       "    </tr>\n",
       "    <tr>\n",
       "      <th>2</th>\n",
       "      <td>2</td>\n",
       "      <td>@bancopan @bancopan porque o aplicativo de voc...</td>\n",
       "      <td>N</td>\n",
       "    </tr>\n",
       "    <tr>\n",
       "      <th>3</th>\n",
       "      <td>3</td>\n",
       "      <td>@c_lanzotti @bancopan Eu só quero me desvincul...</td>\n",
       "      <td>N</td>\n",
       "    </tr>\n",
       "    <tr>\n",
       "      <th>4</th>\n",
       "      <td>4</td>\n",
       "      <td>@712YUNG @bancopan acontece o mesmo comigo! vo...</td>\n",
       "      <td>N</td>\n",
       "    </tr>\n",
       "    <tr>\n",
       "      <th>...</th>\n",
       "      <td>...</td>\n",
       "      <td>...</td>\n",
       "      <td>...</td>\n",
       "    </tr>\n",
       "    <tr>\n",
       "      <th>95</th>\n",
       "      <td>95</td>\n",
       "      <td>Tô muito puto com o @bancopan</td>\n",
       "      <td>N</td>\n",
       "    </tr>\n",
       "    <tr>\n",
       "      <th>96</th>\n",
       "      <td>96</td>\n",
       "      <td>@bancopan  assim é fácil ganhar juros !!! deix...</td>\n",
       "      <td>N</td>\n",
       "    </tr>\n",
       "    <tr>\n",
       "      <th>97</th>\n",
       "      <td>97</td>\n",
       "      <td>Alguém sabe algum contato do @bancopan  que at...</td>\n",
       "      <td>N</td>\n",
       "    </tr>\n",
       "    <tr>\n",
       "      <th>98</th>\n",
       "      <td>98</td>\n",
       "      <td>Há dias eu estou tentando entrar em contato co...</td>\n",
       "      <td>N</td>\n",
       "    </tr>\n",
       "    <tr>\n",
       "      <th>99</th>\n",
       "      <td>99</td>\n",
       "      <td>Eu com a camisa do @bancopan no busão (que gan...</td>\n",
       "      <td>N</td>\n",
       "    </tr>\n",
       "  </tbody>\n",
       "</table>\n",
       "<p>100 rows × 3 columns</p>\n",
       "</div>"
      ],
      "text/plain": [
       "    id                                              texto Re_tweet\n",
       "0    0                   @bancopan Banco pan quero mimo 🥺        N\n",
       "1    1                                  @bancopan Não 😨😱😰        N\n",
       "2    2  @bancopan @bancopan porque o aplicativo de voc...        N\n",
       "3    3  @c_lanzotti @bancopan Eu só quero me desvincul...        N\n",
       "4    4  @712YUNG @bancopan acontece o mesmo comigo! vo...        N\n",
       "..  ..                                                ...      ...\n",
       "95  95                      Tô muito puto com o @bancopan        N\n",
       "96  96  @bancopan  assim é fácil ganhar juros !!! deix...        N\n",
       "97  97  Alguém sabe algum contato do @bancopan  que at...        N\n",
       "98  98  Há dias eu estou tentando entrar em contato co...        N\n",
       "99  99  Eu com a camisa do @bancopan no busão (que gan...        N\n",
       "\n",
       "[100 rows x 3 columns]"
      ]
     },
     "metadata": {},
     "output_type": "display_data"
    }
   ],
   "source": [
    "#cria uma tabela contendo o id, tweet e booleano informando se é um re-tweet\n",
    "resultados = pd.DataFrame(resultados)\n",
    "resultados.columns = ['id','texto','Re_tweet']\n",
    "display(resultados)"
   ]
  },
  {
   "cell_type": "code",
   "execution_count": 53,
   "metadata": {},
   "outputs": [
    {
     "name": "stdout",
     "output_type": "stream",
     "text": [
      "Response(data=[<Tweet id=1564629725703806980 text='@bancopan Banco pan quero mimo 🥺'>, <Tweet id=1564628688351674374 text='@bancopan Não 😨😱😰'>, <Tweet id=1564627888573501443 text='@bancopan @bancopan porque o aplicativo de vocês nunca funciona? E por que seus lindos atendentes me ligam de 30 em 30 segundos quando o que quero solicitar é bem simples ( funcionaria através de um único email).'>, <Tweet id=1564622799951597587 text='@c_lanzotti @bancopan Eu só quero me desvincular desse banco, só dor de cabeça'>, <Tweet id=1564622585064734726 text='@712YUNG @bancopan acontece o mesmo comigo! vou pagar essa fatura e cancelar a conta. esse pan tá mais pra uma piada. deixa a Jojo saber disso...'>, <Tweet id=1564622521093296132 text='@nandomtts @spbancarios @s @santander_br @Bradesco @itau @bancosafra @BancodoBrasil @bancopan @BancoOriginal @FEBRABAN @Banrisul #PropostaDecenteOuGreve\\n\\n@itau @Bradesco @Santander_br @BancodoBrasil @Caixa @FEBRABAN\\n\\n😡 Fenaban!\\n🤬🤬\\n\\n@spbancarios\\n@ivonesilva\\n@mrosanihashizu1\\n@NeivaMrs\\n@fetecsp\\n@alinemolina1\\n@Contraf_CUT\\n@Juvandia\\n@CUT_Brasil\\n@CUTsaopaulo\\n@lcmarcolino\\n@Afubesp_\\n@camiloafubesp \\n@RitaBerlofa'>, <Tweet id=1564622322962731017 text='@nandomtts @spbancarios @s @santander_br @Bradesco @itau @bancosafra @BancodoBrasil @bancopan @BancoOriginal @FEBRABAN @Banrisul #PropostaDecenteOuGreve\\n\\n@itau @Bradesco @Santander_br @BancodoBrasil @Caixa @FEBRABAN\\n\\n😡 Fenaban!\\n🤬🤬\\n\\n@spbancarios\\n@ivonesilva\\n@mrosanihashizu1\\n@NeivaMrs\\n@fetecsp\\n@alinemolina1\\n@Contraf_CUT\\n@Juvandia\\n@CUT_Brasil\\n@CUTsaopaulo\\n@lcmarcolino\\n@Afubesp_\\n@camiloafubesp \\n@RitaBerlofa'>, <Tweet id=1564621963011792901 text='@bancopan e aí? suporte horrível. vou pagar essa fatura e cancelar a conta com vocês. segunda vez que acontece isso.'>, <Tweet id=1564621327595704326 text='@bancopan Nada feito https://t.co/lRNZHMvVU8'>, <Tweet id=1564619829608431625 text='@bancopan cadê essa disposição toda pra ajudar? o que fazer quando dá esse erro e nem deixa criar uma nova senha?'>, <Tweet id=1564618751135420428 text='@bancopan mas a conta não entra! \"ops, tivemos um problema inesperado, tente novamente\". e com isso esqueci a senha, mas não dá pra resetar (dá o mesmo erro).'>, <Tweet id=1564617008716693518 text='@JorgeWPena @bancopan Veja se não sujaram seu nome, amigo'>, <Tweet id=1564615303899877382 text='Mais uma vez me ligam dizendo ser só @bancopan e que há um empréstimo pra cair na minha conta e que devo ligar para 0800 0002104. Semana passada fiz o tal cancelamento de consignado e descobri que não havia consignando algum no INSS. O banco tens e fazer algo contra'>, <Tweet id=1564612983233421319 text='@bancopan A data está correta. Já reiniciei o celular, desinstalei e instalei de novo o app e o erro continua.'>, <Tweet id=1564607695478456330 text='@bancopan E porque o site de vocês está fora do ar? E pelo telefone a opção 9 não é mais para falar com atendente? Estou preocupado.'>, <Tweet id=1564607492906156037 text='@bancopan @bancopan não consigo acessar o app. Podem me ajudar, por favor?'>, <Tweet id=1564602969131466752 text='Por engano, paguei R$ 140 a mais na fatura do cartão do @bancopan. Passou-se meses e ainda não me devolveram o valor, mesmo depois de entrar em contato. Atendimento muito ruim. Não recomendo a ninguém'>, <Tweet id=1564601352176603137 text='@bancopan @bancopan preciso de suporte, falar com alguém. Isso é possível?'>, <Tweet id=1564601129362759686 text='@bancopan Isso não acontece. Fico esperando e nada!'>, <Tweet id=1564599007753768961 text='@bancopan Como faz para falar com um atendente? Estou horas tentando e nada! Só atendimento eletrônico e não resolve meu problema, difícil vocês,hein!'>, <Tweet id=1564588596392230912 text='Alô @bancopan  o que está acontecendo com seu aplicativo 🤦🏻\\u200d♂️resolve isso aí'>, <Tweet id=1564553613397184512 text='@Ricardo77460721 @bancopan Até eu preocupei agora....eu fiz contrato com o banco PAN'>, <Tweet id=1564553589082710017 text='@CardozoMClaudia Tem um cartão, não vou dizer que é o @bancopan, que liga e manda mensagem avisando que a fatura vai vencer. É o inferno antes, durante e depois da dívida existir!'>, <Tweet id=1564530634600636416 text='RT @bancopan: 😎🌞 Você recebeu um voucher de viagem e pode ir a qualquer lugar do mundo. Para onde iria? 😎🌞'>, <Tweet id=1564530620591706112 text='RT @bancopan: Se sua vida financeira fosse um jogo, em qual fase você estaria? 🤔\\n1. Iniciou a 1ª fase - fez as compras do mês. ✅ \\n2. Enfren…'>, <Tweet id=1564454564170010624 text='Meu limite não tá sendo suficiente é o @bancopan NAO FAZ NADA!!!!'>, <Tweet id=1564436662544998405 text='@DiegoCorrets @bancopan Faça! Sério!'>, <Tweet id=1564436013887488005 text='Desculpa @AlgarTelecom por ter reclamado do seu atendimento há alguns dias.\\nNada supera o péssimo atendimento do @bancopan !!'>, <Tweet id=1564435741664477186 text='@bancopan Isso já estar pago e fica no sistema de vcs como atraso e depois na profayura vem os juros e aí eu tenho que ficar ligando pra vcs com esse atendimento horrível para poder resolver isso. Quando eu falo que esse banco é uma MERDA não é atoa https://t.co/Hba7NJrZvc'>, <Tweet id=1564434505594798081 text='@anaacaeb @bancopan Vou fazer o mesmo.'>, <Tweet id=1564434361998610434 text='@DiegoCorrets @bancopan Ou com o meu limite que foi rebaixado DO NADA. Ainda bem que já me livrei dessa porcaria de banco.'>, <Tweet id=1564431859332816897 text='RT @nandomtts: Não aceitarmos desrespeito contra @s trabalhadorxs. \\n\\n#AgoraÉGreve\\n@santander_br @Bradesco  @itau @bancosafra  @BancodoBrasi…'>, <Tweet id=1564429428112982017 text='@nandomtts @s @santander_br @Bradesco @itau @bancosafra @BancodoBrasil @bancopan @BancoOriginal @FEBRABAN @Banrisul ESTUDAR PARA ESCREVER CORRETAMENTE NÃO QUER. O \"TRABALHADORXS\" É A IGNORÂNCIA EM SUA ESSÊNCIA.\\n#AgoraÉgreve'>, <Tweet id=1564423455554019329 text='@bancopan ACABARAM DE ABRIR UMA CONTA NESSE BANCO SEM TER SIDO EU, E PELO JEITO ACONTECEU COM OUTRAS PESSOAS!!!!'>, <Tweet id=1564413347075956745 text='@bancopan O pagseguro está bloqueando saldo do trabalhador e cancelando as contas, falta de respeito. Arrependida de ter comprasdo essa maldita máquina. 3 meses tentando sacar 1.200 que eles estão segurando e não devolvem.'>, <Tweet id=1564411574001045504 text='@bancopan Kkkk tentei fazer um empréstimo, pq sou beneficiário do bolsa família, cai em site fraudulento, tenho anti vírus no meu celular 📱, e tem outra tenho o app de vcs no meu celular, e através dele fui encaminhado pra um canal através de WhatsApp, deu ruim 👎'>, <Tweet id=1564398620035760128 text='@bancopan Queria Mimi 🥺'>, <Tweet id=1564396110642290688 text='RT @nandomtts: Não aceitarmos desrespeito contra @s trabalhadorxs. \\n\\n#AgoraÉGreve\\n@santander_br @Bradesco  @itau @bancosafra  @BancodoBrasi…'>, <Tweet id=1564395162960265216 text='#queraiva do @bancopan sempre atrasando a vida … agora tô sem #dinheiro pq simplesmente ele não quer abrir e ninguém atende nesse banco https://t.co/5NPUyewQgb'>, <Tweet id=1564393093247520774 text='Elogiei o @bancopan e ele está fazendo uma palhaçada comigo 🤡'>, <Tweet id=1564391541015191553 text='Banco pan lixo! Abaixou minha fatura de 1200 pra 100 tmnc \\n@bancopan falta de noção em cara'>, <Tweet id=1564383815144972289 text='@bancopan Israel\\nsonho com isso'>, <Tweet id=1564381962311188482 text='RT @metatreze: #AgoraÉGreve @itau @santander_br @Bradesco @bancopan @BancoOriginal @Bancointer @BancodoBrasil @BancoOriginal @FEBRABAN http…'>, <Tweet id=1564379556320010241 text='RT @nandomtts: Não aceitarmos desrespeito contra @s trabalhadorxs. \\n\\n#AgoraÉGreve\\n@santander_br @Bradesco  @itau @bancosafra  @BancodoBrasi…'>, <Tweet id=1564378545618620418 text='@bancopan Quero entrar na minha conta, esqueci a senha, eu busco recurso no app é só aparece isso. Resolva. https://t.co/OZSycLec0a'>, <Tweet id=1564377671127240705 text='RT @nandomtts: Não aceitarmos desrespeito contra @s trabalhadorxs. \\n\\n#AgoraÉGreve\\n@santander_br @Bradesco  @itau @bancosafra  @BancodoBrasi…'>, <Tweet id=1564377088399908867 text='RT @nandomtts: Não aceitarmos desrespeito contra @s trabalhadorxs. \\n\\n#AgoraÉGreve\\n@santander_br @Bradesco  @itau @bancosafra  @BancodoBrasi…'>, <Tweet id=1564376759373647873 text='@bancopan Egito, pois meu futuro marido mora lá'>, <Tweet id=1564376177632067590 text='@nandomtts @spbancarios @s @santander_br @Bradesco @itau @bancosafra @BancodoBrasil @bancopan @BancoOriginal @FEBRABAN @Banrisul #grevedosbancarios2022 \\n#propostadecenteougreve #agoraégreve'>, <Tweet id=1564376050905358336 text='@nandomtts @spbancarios @s @santander_br @Bradesco @itau @bancosafra @BancodoBrasil @bancopan @BancoOriginal @FEBRABAN @Banrisul #grevedosbancarios2022 \\n#propostadecenteougreve #agoraégreve'>, <Tweet id=1564373464030625795 text='@nandomtts @s @santander_br @Bradesco @itau @bancosafra @BancodoBrasil @bancopan @BancoOriginal @FEBRABAN @Banrisul #AgoraÉGreve https://t.co/Ad6sKBfn7j'>, <Tweet id=1564372698347851776 text='RT @nandomtts: Não aceitarmos desrespeito contra @s trabalhadorxs. \\n\\n#AgoraÉGreve\\n@santander_br @Bradesco  @itau @bancosafra  @BancodoBrasi…'>, <Tweet id=1564369686158008322 text='@bancopan Dubai 😍'>, <Tweet id=1564368125952491526 text='Liguei 4x na central do @bancopan e a ligação simplesmente cai quando alguém atende 🤡'>, <Tweet id=1564366954152050690 text='@bancopan Suíça'>, <Tweet id=1564360013489078273 text='RT @diogenes_fran: @metatreze @itau @santander_br @Bradesco @bancopan @BancoOriginal @Bancointer @BancodoBrasil @FEBRABAN #AgoraÉGreve!'>, <Tweet id=1564359950138331138 text='RT @metatreze: #AgoraÉGreve @itau @santander_br @Bradesco @bancopan @BancoOriginal @Bancointer @BancodoBrasil @BancoOriginal @FEBRABAN http…'>, <Tweet id=1564358172948811776 text='RT @bancopan: Se sua vida financeira fosse um jogo, em qual fase você estaria? 🤔\\n1. Iniciou a 1ª fase - fez as compras do mês. ✅ \\n2. Enfren…'>, <Tweet id=1564356471722213376 text='RT @nandomtts: Não aceitarmos desrespeito contra @s trabalhadorxs. \\n\\n#AgoraÉGreve\\n@santander_br @Bradesco  @itau @bancosafra  @BancodoBrasi…'>, <Tweet id=1564352960284475405 text='RT @nandomtts: Não aceitarmos desrespeito contra @s trabalhadorxs. \\n\\n#AgoraÉGreve\\n@santander_br @Bradesco  @itau @bancosafra  @BancodoBrasi…'>, <Tweet id=1564352391436173313 text='RT @nandomtts: Não aceitarmos desrespeito contra @s trabalhadorxs. \\n\\n#AgoraÉGreve\\n@santander_br @Bradesco  @itau @bancosafra  @BancodoBrasi…'>, <Tweet id=1564352256606101507 text='RT @nandomtts: Não aceitarmos desrespeito contra @s trabalhadorxs. \\n\\n#AgoraÉGreve\\n@santander_br @Bradesco  @itau @bancosafra  @BancodoBrasi…'>, <Tweet id=1564351601183059968 text='@metatreze @itau @santander_br @Bradesco @bancopan @BancoOriginal @Bancointer @BancodoBrasil @FEBRABAN #AgoraÉGreve!'>, <Tweet id=1564350769075290113 text='RT @bancopan: 😎🌞 Você recebeu um voucher de viagem e pode ir a qualquer lugar do mundo. Para onde iria? 😎🌞'>, <Tweet id=1564349490232016899 text='RT @luzeniltoncreto: @nandomtts @s @santander_br @Bradesco @itau @bancosafra @BancodoBrasil @bancopan @BancoOriginal @FEBRABAN @Banrisul Ba…'>, <Tweet id=1564349396917129216 text='#AgoraÉGreve @itau @santander_br @Bradesco @bancopan @BancoOriginal @Bancointer @BancodoBrasil @BancoOriginal @FEBRABAN https://t.co/2ePggJqGfe'>, <Tweet id=1564349100098785281 text='@bancopan Japão conhecer a ilha de Okinawa'>, <Tweet id=1564348337016430592 text='@SimoneTardim @spbancarios @Bradesco @itau @santander_br @BancodoBrasil @caixaeconomica @bancopan @Citibank @bancosafra Não vamos aceitar. Fenaban apresentou proposta final rebaixada e com perdas, @BancodoBrasil segue querendo diminuir as avaliações da GDP, em 1 semestre ninguém consegue recuperar! #AgoraÉGreve'>, <Tweet id=1564347842881355780 text='@SimoneTardim @spbancarios @Bradesco @itau @caixaeconomica @santander_br @BancodoBrasil @Citi @Citibank @bancosafra @bancopan Não vamos aceitar. Fenaban apresentou proposta final rebaixada e com perdas, @BancodoBrasil segue querendo diminuir as avaliações da GDP, em 1 semestre ninguém consegue recuperar! #AgoraÉGreve'>, <Tweet id=1564347297877606401 text='#AgoraÉGreve \\n@spbancarios \\n@Bradesco \\n@itau \\n@caixaeconomica \\n@santander_br \\n@BancodoBrasil \\n@Citi \\n@Citibank \\n@bancosafra \\n@bancopan https://t.co/vlZMp3Ciai'>, <Tweet id=1564347228050923521 text='RT @nandomtts: Não aceitarmos desrespeito contra @s trabalhadorxs. \\n\\n#AgoraÉGreve\\n@santander_br @Bradesco  @itau @bancosafra  @BancodoBrasi…'>, <Tweet id=1564346927956824071 text='#AgoraÉGreve\\n@spbancarios \\n@Bradesco \\n@itau \\n@santander_br \\n@BancodoBrasil \\n@caixaeconomica \\n@bancopan \\n@Citibank \\n@bancosafra https://t.co/aGoRPS13TP'>, <Tweet id=1564346242653687809 text='@nandomtts @s @santander_br @Bradesco @itau @bancosafra @BancodoBrasil @bancopan @BancoOriginal @FEBRABAN @Banrisul Fenaban apresentou proposta final rebaixada e com perdas, @BancodoBrasil segue querendo diminuir as avaliações da GDP, em 1 semestre ninguém consegue recuperar! #AgoraÉGreve . Não vamos aceitar!'>, <Tweet id=1564345710438408194 text='@nandomtts @s @santander_br @Bradesco @itau @bancosafra @BancodoBrasil @bancopan @BancoOriginal @FEBRABAN @Banrisul Fenaban apresentou proposta final rebaixada e com perdas, @BancodoBrasil segue querendo diminuir as avaliações da GDP, em 1 semestre ninguém consegue recuperar! #AgoraÉGreve . Não vamos aceitar!'>, <Tweet id=1564345531148664836 text='RT @nandomtts: Não aceitarmos desrespeito contra @s trabalhadorxs. \\n\\n#AgoraÉGreve\\n@santander_br @Bradesco  @itau @bancosafra  @BancodoBrasi…'>, <Tweet id=1564344527619497986 text='@nandomtts @s @santander_br @Bradesco @itau @bancosafra @BancodoBrasil @bancopan @BancoOriginal @FEBRABAN @Banrisul Bancos querem greve! Fenaban apresentou proposta final com perdas já recusada pela categoria e agora querem impor mais perdas em 2023. Comando está reunido neste momento para organizar e mobilizar o movimento para a luta. #AgoraÉGreve!'>, <Tweet id=1564344468253327365 text='Não aceitarmos desrespeito contra @s trabalhadorxs. \\n\\n#AgoraÉGreve\\n@santander_br @Bradesco  @itau @bancosafra  @BancodoBrasil  @bancopan @BancoOriginal @FEBRABAN @Banrisul https://t.co/3sBrIP5LRA'>, <Tweet id=1564344328679555074 text='Não aceitarmos desrespeito contra @s trabalhadorxs. \\n\\n#AgoraÉGreve\\n@santander_br @Bradesco  @itau @bancosafra  @BancodoBrasil  @bancopan @BancoOriginal @FEBRABAN @Banrisul https://t.co/sd3PgI66ux'>, <Tweet id=1564344262187274247 text='RT @nandomtts: Não aceitarmos desrespeito contra @s trabalhadorxs. \\n\\n#AgoraÉGreve\\n@santander_br @Bradesco  @itau @bancosafra  @BancodoBrasi…'>, <Tweet id=1564344255975510017 text='Não aceitarmos desrespeito contra @s trabalhadorxs. \\n\\n#AgoraÉGreve\\n@santander_br @Bradesco  @itau @bancosafra  @BancodoBrasil  @bancopan @BancoOriginal @FEBRABAN @Banrisul https://t.co/IqQeeqtIq2'>, <Tweet id=1564343390979907592 text='Não aceitarmos desrespeito contra @s trabalhadorxs. \\n\\n#AgoraÉGreve\\n@santander_br @Bradesco  @itau @bancosafra  @BancodoBrasil  @bancopan @BancoOriginal @FEBRABAN @Banrisul https://t.co/aJtIvYS3n6'>, <Tweet id=1564343052440948737 text='Não aceitarmos desrespeito contra @s trabalhadorxs. \\n\\n#AgoraÉGreve\\n@santander_br @Bradesco  @itau @bancosafra  @BancodoBrasil  @bancopan @BancoOriginal @FEBRABAN @Banrisul https://t.co/4J8T67Sj27'>, <Tweet id=1564342334422192136 text='Não aceitarmos desrespeito contra @s trabalhadorxs. \\n\\n#AgoraÉGreve\\n@santander_br @Bradesco  @itau @bancosafra  @BancodoBrasil  @bancopan @BancoOriginal @FEBRABAN @Banrisul https://t.co/RFvsPlBrk8'>, <Tweet id=1564342250322202628 text='Não aceitarmos desrespeito contra @s trabalhadorxs. \\n\\n#AgoraÉGreve\\n@santander_br @Bradesco  @itau @bancosafra  @BancodoBrasil  @bancopan @BancoOriginal @FEBRABAN @Banrisul https://t.co/EF8VScyaiV'>, <Tweet id=1564337728010993665 text='@bancopan Em vez de fazer jogos, vocês deveriam resolver o meu problema. Com o pagamento da minha fatura do cartão, que não foi registrado.'>, <Tweet id=1564335342559404033 text='@bancopan Nao sei o que DM….\\nO fato é que continuam ligando  no celular!\\nO que preciso fazer para deixar de ser importunado?'>, <Tweet id=1564328726145417216 text='@bancopan GOSTARIA DE SABER COMO VOU PAGAR O BOLETO GERADO PELO SISTEMA!! AI SÓ EM 5 DIAS UTEIS PARA CONSEGUI NOVA IMPRESSÃO!!! ESTÃO DE PARABÉNS ASSIM ESTA FACIL GANHAR COM OS JUROS GERADOS!!\\n#BANCOPANLIXO https://t.co/5ad7nju5jI'>, <Tweet id=1564319867678892032 text='@bancopan vcs só me iludem, passam dias oferecendo empréstimo, dava erro toda vezes que tentava concluir pelo app e agora some a \" oferta \"'>, <Tweet id=1564300105045377026 text='@bancopan Italia'>, <Tweet id=1564298292867092489 text='@bancopan Kakakak eu venderia pra pagar as contas.🤣🤣🤣'>, <Tweet id=1564281494348111873 text='@bancopan Inglaterra.'>, <Tweet id=1564278697091293192 text='A dificuldade pra falar com atendente do @bancopan pra contestar uma compra no cartão é surreal. Não indico a ninguém.'>, <Tweet id=1564269799521353728 text='@bancopan @bancopan roubaram a porra do meu dinheiro!!'>, <Tweet id=1564269491256807427 text='@bancopan decidiram não aceitar a mesma senha que eu usava pra entrar no app dizendo que a senha está errada, sendo que nunca mudei. coloco p mudar a senha e falam q vão mandar codigo no email e estou a 2hrs esperando a porra do codigo\\nsimplesmente me ROUBARAM filhos da puta'>, <Tweet id=1564269241196597249 text='@bancopan eu quero q vcs vão pra casa do caralho\\nabri essa porra dessa conta pq tinham me mandado uma PROPOSTA de cartao de credito, quando abri não tinha porra de crédito nenhum\\nai quando decido usar essa merda e transfiro algum dinheiro, decidem não aceitar mais a senha'>, <Tweet id=1564268466345021442 text='Tô muito puto com o @bancopan'>, <Tweet id=1564263598674907137 text='@bancopan  assim é fácil ganhar juros !!! deixa o sistema fora do ar para ao chamar o chat pagar 3 dias após a data escolhida !!!\\n#bancopanlixo'>, <Tweet id=1564256325802098689 text='Alguém sabe algum contato do @bancopan  que atenda ?\\nFizeram um cartão consignado pra minha tia de 60 anos e tão descontando do benefício dela 🙄'>, <Tweet id=1564253271518224384 text='Há dias eu estou tentando entrar em contato com algum atendente do Banco Pan e simplesmente não consigo. Ai você apela para as redes sociais e eles fazem você engolir uma conversinha de que alguém vai entrar em contato com você, e ninguém nunca entra. Fujam do @bancopan'>, <Tweet id=1564240390009520131 text='Eu com a camisa do @bancopan no busão (que ganhei do @domingao ) o povo perguntando onde ficava a agência \\n\\nQuero meu dinheiro do publi 🗣🗣🗣'>], includes={}, errors=[], meta={'newest_id': '1564629725703806980', 'oldest_id': '1564240390009520131', 'result_count': 100, 'next_token': 'b26v89c19zqg8o3fpz8lkp66ktaq3zb42iqfj8u081t31'})\n"
     ]
    }
   ],
   "source": [
    "resultados.to_excel('bancopanNumTextoComentario.xlsx')\n",
    "resultados.to_csv('bancopanNumTextoComentario.csv')\n",
    "print(resposta)"
   ]
  },
  {
   "cell_type": "code",
   "execution_count": 54,
   "metadata": {},
   "outputs": [],
   "source": [
    "#Fecha conexão\n",
    "con.close()"
   ]
  },
  {
   "cell_type": "code",
   "execution_count": null,
   "metadata": {},
   "outputs": [],
   "source": []
  }
 ],
 "metadata": {
  "kernelspec": {
   "display_name": "Python 3",
   "language": "python",
   "name": "python3"
  },
  "language_info": {
   "codemirror_mode": {
    "name": "ipython",
    "version": 3
   },
   "file_extension": ".py",
   "mimetype": "text/x-python",
   "name": "python",
   "nbconvert_exporter": "python",
   "pygments_lexer": "ipython3",
   "version": "3.8.5"
  }
 },
 "nbformat": 4,
 "nbformat_minor": 4
}
